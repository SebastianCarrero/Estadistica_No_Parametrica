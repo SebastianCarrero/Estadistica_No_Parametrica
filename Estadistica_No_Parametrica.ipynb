{
 "cells": [
  {
   "attachments": {},
   "cell_type": "markdown",
   "metadata": {},
   "source": [
    "# **ESTADISTICA NO PARAMETRICA**"
   ]
  },
  {
   "attachments": {},
   "cell_type": "markdown",
   "metadata": {},
   "source": [
    "# **1. Prueba de Man Whitney**"
   ]
  },
  {
   "attachments": {},
   "cell_type": "markdown",
   "metadata": {},
   "source": [
    "U de Mann-Whitney o prueba de Wilcoxon-Mann-Whitney, es una prueba no paramétrica utilizada para comparar dos muestras independientes y determinar si provienen de la misma población o si tienen distribuciones diferentes.\n",
    "\n",
    "Utilizada para comparar dos grupos independientes no parámetricos y si no tenemos certeza de la distribución de los datos.\n",
    "\n",
    "Para palicar esta prueba los datos deben ordenarse de alguna manera, y deben haber variables ordinales o continuas.\n",
    "\n",
    "Est útil para comparar la superposición entre dos grupoos es decir que tanta diferencias hay entre ambos.\n",
    "\n",
    "- **U pequeño:** quiere decir mayor diferencia entre los dos grupos.\n",
    "- **U grande:** menor diferencia entre los grupos."
   ]
  },
  {
   "attachments": {},
   "cell_type": "markdown",
   "metadata": {},
   "source": [
    "## **Ejemplo No. 1**"
   ]
  },
  {
   "attachments": {},
   "cell_type": "markdown",
   "metadata": {},
   "source": [
    "- ### **Contexto:**\n",
    "Utilizaremos un dataset que contiene la cantidad de tejido cancerigeno extraido mediante las pinzas de tipo **estandar** (Forceps=1) y de tipo **jumbo** (Forceps=2). Se requiere comprobar si exten diferencias significativas o no.\n",
    "\n",
    "Tendremos una variable nombrada como **resección**, que en medicina quieres decir que es una intervención que suele realizarse mediante cirugía, que consiste en extirpar un tumor y casi siempre se aplica adicionamente radioterapia local luego, para asegurar que no quede ninguna célula tumoralen la zona.\n",
    "\n",
    "La pinza **jumbo** tiene una cabeza más grande y supuestamente agarra más tejedio tumoral, y es el objeto del presente análisis de confrimar cual de las dos pinzas es más efectiva para extraer más tejido.\n",
    "\n",
    "Para lo cuál se recopilo información para cada una de las pinzas cuanto tejido fue extraído en cada paciente y se categorizó el resultado en un esquema que nos dice:\n",
    "\n",
    "- Si el tejido extraído es menor a 1 cm, entonces la variable resection = 1.\n",
    "- Si el tejido extraído es entre 1 y 2 cm, variable resection = 2.\n",
    "- Si el tejido extraído es entre 2 y 4 cm, variable resection = 3.\n",
    "- Si el tejido extraído es mayor a 4 cm, variable resection = 4.\n",
    "\n",
    "De acuerdo a lo anterior los valores de la variable resection son valores ordinales, que se prodrán ordenar de menor a mayor tejido extraído, por lo tanto utilizaremos pruebas no parametricas, porque los datos son independientes y tenemos una variable ordinal.\n",
    "\n",
    "\n",
    "\n",
    "\n"
   ]
  },
  {
   "attachments": {},
   "cell_type": "markdown",
   "metadata": {},
   "source": [
    "- ### **Objetivo:**\n",
    "Comprobar si la pinza yumbo que es la más grande extraé más tejido que la estandar."
   ]
  },
  {
   "attachments": {},
   "cell_type": "markdown",
   "metadata": {},
   "source": [
    "- ### **Importamos librerías**"
   ]
  },
  {
   "cell_type": "code",
   "execution_count": 1,
   "metadata": {},
   "outputs": [],
   "source": [
    "import pandas as pd #Herramienta para la estructura y manipulación de datos\n",
    "from scipy import stats # Extrae de la librería scipy la función stats para realizar análisis estadisticos\n",
    "from scipy.stats import mannwhitneyu # importa la función Man Whitney para calcular el p-valor de los grupos"
   ]
  },
  {
   "attachments": {},
   "cell_type": "markdown",
   "metadata": {},
   "source": [
    "- ### **Cargamos dataset**"
   ]
  },
  {
   "cell_type": "code",
   "execution_count": 2,
   "metadata": {},
   "outputs": [
    {
     "data": {
      "text/html": [
       "<div>\n",
       "<style scoped>\n",
       "    .dataframe tbody tr th:only-of-type {\n",
       "        vertical-align: middle;\n",
       "    }\n",
       "\n",
       "    .dataframe tbody tr th {\n",
       "        vertical-align: top;\n",
       "    }\n",
       "\n",
       "    .dataframe thead th {\n",
       "        text-align: right;\n",
       "    }\n",
       "</style>\n",
       "<table border=\"1\" class=\"dataframe\">\n",
       "  <thead>\n",
       "    <tr style=\"text-align: right;\">\n",
       "      <th></th>\n",
       "      <th>Forceps</th>\n",
       "      <th>Resection</th>\n",
       "    </tr>\n",
       "  </thead>\n",
       "  <tbody>\n",
       "    <tr>\n",
       "      <th>0</th>\n",
       "      <td>2.0</td>\n",
       "      <td>2.0</td>\n",
       "    </tr>\n",
       "    <tr>\n",
       "      <th>1</th>\n",
       "      <td>1.0</td>\n",
       "      <td>2.0</td>\n",
       "    </tr>\n",
       "    <tr>\n",
       "      <th>2</th>\n",
       "      <td>2.0</td>\n",
       "      <td>3.0</td>\n",
       "    </tr>\n",
       "    <tr>\n",
       "      <th>3</th>\n",
       "      <td>1.0</td>\n",
       "      <td>1.0</td>\n",
       "    </tr>\n",
       "    <tr>\n",
       "      <th>4</th>\n",
       "      <td>1.0</td>\n",
       "      <td>2.0</td>\n",
       "    </tr>\n",
       "    <tr>\n",
       "      <th>5</th>\n",
       "      <td>1.0</td>\n",
       "      <td>3.0</td>\n",
       "    </tr>\n",
       "    <tr>\n",
       "      <th>6</th>\n",
       "      <td>2.0</td>\n",
       "      <td>3.0</td>\n",
       "    </tr>\n",
       "    <tr>\n",
       "      <th>7</th>\n",
       "      <td>2.0</td>\n",
       "      <td>3.0</td>\n",
       "    </tr>\n",
       "    <tr>\n",
       "      <th>8</th>\n",
       "      <td>1.0</td>\n",
       "      <td>2.0</td>\n",
       "    </tr>\n",
       "    <tr>\n",
       "      <th>9</th>\n",
       "      <td>1.0</td>\n",
       "      <td>1.0</td>\n",
       "    </tr>\n",
       "    <tr>\n",
       "      <th>10</th>\n",
       "      <td>1.0</td>\n",
       "      <td>3.0</td>\n",
       "    </tr>\n",
       "    <tr>\n",
       "      <th>11</th>\n",
       "      <td>2.0</td>\n",
       "      <td>2.0</td>\n",
       "    </tr>\n",
       "    <tr>\n",
       "      <th>12</th>\n",
       "      <td>1.0</td>\n",
       "      <td>1.0</td>\n",
       "    </tr>\n",
       "    <tr>\n",
       "      <th>13</th>\n",
       "      <td>2.0</td>\n",
       "      <td>4.0</td>\n",
       "    </tr>\n",
       "    <tr>\n",
       "      <th>14</th>\n",
       "      <td>2.0</td>\n",
       "      <td>3.0</td>\n",
       "    </tr>\n",
       "    <tr>\n",
       "      <th>15</th>\n",
       "      <td>2.0</td>\n",
       "      <td>3.0</td>\n",
       "    </tr>\n",
       "    <tr>\n",
       "      <th>16</th>\n",
       "      <td>1.0</td>\n",
       "      <td>2.0</td>\n",
       "    </tr>\n",
       "    <tr>\n",
       "      <th>17</th>\n",
       "      <td>2.0</td>\n",
       "      <td>2.0</td>\n",
       "    </tr>\n",
       "    <tr>\n",
       "      <th>18</th>\n",
       "      <td>2.0</td>\n",
       "      <td>4.0</td>\n",
       "    </tr>\n",
       "    <tr>\n",
       "      <th>19</th>\n",
       "      <td>2.0</td>\n",
       "      <td>2.0</td>\n",
       "    </tr>\n",
       "    <tr>\n",
       "      <th>20</th>\n",
       "      <td>2.0</td>\n",
       "      <td>2.0</td>\n",
       "    </tr>\n",
       "  </tbody>\n",
       "</table>\n",
       "</div>"
      ],
      "text/plain": [
       "    Forceps  Resection\n",
       "0       2.0        2.0\n",
       "1       1.0        2.0\n",
       "2       2.0        3.0\n",
       "3       1.0        1.0\n",
       "4       1.0        2.0\n",
       "5       1.0        3.0\n",
       "6       2.0        3.0\n",
       "7       2.0        3.0\n",
       "8       1.0        2.0\n",
       "9       1.0        1.0\n",
       "10      1.0        3.0\n",
       "11      2.0        2.0\n",
       "12      1.0        1.0\n",
       "13      2.0        4.0\n",
       "14      2.0        3.0\n",
       "15      2.0        3.0\n",
       "16      1.0        2.0\n",
       "17      2.0        2.0\n",
       "18      2.0        4.0\n",
       "19      2.0        2.0\n",
       "20      2.0        2.0"
      ]
     },
     "execution_count": 2,
     "metadata": {},
     "output_type": "execute_result"
    }
   ],
   "source": [
    "data = pd.read_csv('../data/forceps.csv')\n",
    "data"
   ]
  },
  {
   "attachments": {},
   "cell_type": "markdown",
   "metadata": {},
   "source": [
    "- ### **Dividimos los grupos de cada pinza**"
   ]
  },
  {
   "cell_type": "code",
   "execution_count": 3,
   "metadata": {},
   "outputs": [
    {
     "data": {
      "text/html": [
       "<div>\n",
       "<style scoped>\n",
       "    .dataframe tbody tr th:only-of-type {\n",
       "        vertical-align: middle;\n",
       "    }\n",
       "\n",
       "    .dataframe tbody tr th {\n",
       "        vertical-align: top;\n",
       "    }\n",
       "\n",
       "    .dataframe thead th {\n",
       "        text-align: right;\n",
       "    }\n",
       "</style>\n",
       "<table border=\"1\" class=\"dataframe\">\n",
       "  <thead>\n",
       "    <tr style=\"text-align: right;\">\n",
       "      <th></th>\n",
       "      <th>Forceps</th>\n",
       "      <th>Resection</th>\n",
       "    </tr>\n",
       "  </thead>\n",
       "  <tbody>\n",
       "    <tr>\n",
       "      <th>1</th>\n",
       "      <td>1.0</td>\n",
       "      <td>2.0</td>\n",
       "    </tr>\n",
       "    <tr>\n",
       "      <th>3</th>\n",
       "      <td>1.0</td>\n",
       "      <td>1.0</td>\n",
       "    </tr>\n",
       "    <tr>\n",
       "      <th>4</th>\n",
       "      <td>1.0</td>\n",
       "      <td>2.0</td>\n",
       "    </tr>\n",
       "    <tr>\n",
       "      <th>5</th>\n",
       "      <td>1.0</td>\n",
       "      <td>3.0</td>\n",
       "    </tr>\n",
       "    <tr>\n",
       "      <th>8</th>\n",
       "      <td>1.0</td>\n",
       "      <td>2.0</td>\n",
       "    </tr>\n",
       "  </tbody>\n",
       "</table>\n",
       "</div>"
      ],
      "text/plain": [
       "   Forceps  Resection\n",
       "1      1.0        2.0\n",
       "3      1.0        1.0\n",
       "4      1.0        2.0\n",
       "5      1.0        3.0\n",
       "8      1.0        2.0"
      ]
     },
     "execution_count": 3,
     "metadata": {},
     "output_type": "execute_result"
    }
   ],
   "source": [
    "group1 = data[data.Forceps == 1.0] #Grupo1 será el de las pinzas tipo estándar\n",
    "group2 = data[data.Forceps == 2.0] #Grupo2 será el de las pinzas tipo jumbo\n",
    "group1.head()"
   ]
  },
  {
   "attachments": {},
   "cell_type": "markdown",
   "metadata": {},
   "source": [
    "- ### **Aplicamos la prueba Man Whitney**"
   ]
  },
  {
   "attachments": {},
   "cell_type": "markdown",
   "metadata": {},
   "source": [
    "Antes de aplicar la prueba correspondiente, es importante saber que tipo de alternativa se va a escoger:\n",
    "- **Prueba de dos colas 'two-sided':** \n",
    "Se utiliza cuando se quiere determinar si hay una diferencia significativa entre las dos muestras en términos de su ubicación o posición, es decir, si se desea saber si hay una diferencia entre las medianas de las dos muestras. En este caso, la hipótesis nula (H0) sería que las dos muestras provienen de la misma población.\n",
    "\n",
    "- **Prueba de una cola superior 'greater':** \n",
    "Se utiliza la prueba de una cola superior cuando se quiere determinar si una muestra tiene valores significativamente mayores que la otra muestra. Es decir, si se desea saber si una muestra tiene una mediana significativamente mayor que la otra muestra. La hipótesis nula (H0) sería que las dos muestras provienen de la misma población y la muestra 1 no tiene valores significativamente mayores que la muestra 2.\n",
    "\n",
    "- **Prueba de una cola inferior 'less':** \n",
    "Se utiliza la prueba de una cola inferior cuando se quiere determinar si una muestra tiene valores significativamente menores que la otra muestra. Es decir, si se desea saber si una muestra tiene una mediana significativamente menor que la otra muestra. La hipótesis nula (H0) sería que las dos muestras provienen de la misma población y la muestra 1 no tiene valores significativamente menores que la muestra 2.\n",
    "\n",
    "Para este caso no solo nos interesa saber si hay diferencias significativas entre las dos pinzas, sino que médicamente nos interesa es si la pinza Jumbo que es más grande realmente atrapa más tejido que la estandar."
   ]
  },
  {
   "cell_type": "code",
   "execution_count": 4,
   "metadata": {},
   "outputs": [
    {
     "name": "stdout",
     "output_type": "stream",
     "text": [
      "p-value:  0.015539092029131481\n"
     ]
    }
   ],
   "source": [
    "stat, p = mannwhitneyu(group1.Resection, group2.Resection, alternative='less')\n",
    "print('p-value: ', p)"
   ]
  },
  {
   "attachments": {},
   "cell_type": "markdown",
   "metadata": {},
   "source": [
    "- ### **Conclusión**\n",
    "\n",
    "P-valor < 0.05, entonces hay una diferencia significativa en la cantidad de tejido cancerígeno que se elimina con cada una de la pinzas, por lo cual la de tipo 2 (Jumbo Forcep) es mejor que la tipo 1 (Estándar)."
   ]
  },
  {
   "attachments": {},
   "cell_type": "markdown",
   "metadata": {},
   "source": [
    "## **Ejemplo No. 2**"
   ]
  },
  {
   "attachments": {},
   "cell_type": "markdown",
   "metadata": {},
   "source": [
    "- ### **Contexto:**\n",
    "Utilizaremos un dataset que contiene información de ventas de gerentes y vendedores, donde encontraremos que la variable dependiente es de tipo ratio, por ende, debemos realizar pruebas de normalidad antes de utilizar tests no paramétricos."
   ]
  },
  {
   "attachments": {},
   "cell_type": "markdown",
   "metadata": {},
   "source": [
    "- ### **Objetivo:**\n",
    "Identificar si hay diferencia significativa entre los sueldos del personal de ventas y el de los gerentes."
   ]
  },
  {
   "attachments": {},
   "cell_type": "markdown",
   "metadata": {},
   "source": [
    "- ### **Importamos librerías:**"
   ]
  },
  {
   "cell_type": "code",
   "execution_count": 2,
   "metadata": {},
   "outputs": [],
   "source": [
    "import pandas as pd #Para manipulación de datos\n",
    "import matplotlib.pyplot as plt # Herramienta para graficar datos\n",
    "import seaborn as sns # Herramienta para graficos avanzados de datos\n",
    "from scipy import stats #Importar de librería scipy la función stats para análisis estadisticos.\n",
    "from scipy.stats import mannwhitneyu #Importar la función Man Whitney para realizar el test.\n",
    "from statsmodels.stats.diagnostic import normal_ad#Importar la función Anderson Darling para prueba de normalidad\n",
    "from scipy.stats import shapiro #Importar la función shapirlo wilk para prueba de normalidad"
   ]
  },
  {
   "attachments": {},
   "cell_type": "markdown",
   "metadata": {},
   "source": [
    "- ### **Cargamos el dataset:**"
   ]
  },
  {
   "cell_type": "code",
   "execution_count": 6,
   "metadata": {},
   "outputs": [
    {
     "data": {
      "text/html": [
       "<div>\n",
       "<style scoped>\n",
       "    .dataframe tbody tr th:only-of-type {\n",
       "        vertical-align: middle;\n",
       "    }\n",
       "\n",
       "    .dataframe tbody tr th {\n",
       "        vertical-align: top;\n",
       "    }\n",
       "\n",
       "    .dataframe thead th {\n",
       "        text-align: right;\n",
       "    }\n",
       "</style>\n",
       "<table border=\"1\" class=\"dataframe\">\n",
       "  <thead>\n",
       "    <tr style=\"text-align: right;\">\n",
       "      <th></th>\n",
       "      <th>Salary</th>\n",
       "      <th>Position</th>\n",
       "    </tr>\n",
       "  </thead>\n",
       "  <tbody>\n",
       "    <tr>\n",
       "      <th>0</th>\n",
       "      <td>57727.0</td>\n",
       "      <td>2.0</td>\n",
       "    </tr>\n",
       "    <tr>\n",
       "      <th>1</th>\n",
       "      <td>39907.0</td>\n",
       "      <td>1.0</td>\n",
       "    </tr>\n",
       "    <tr>\n",
       "      <th>2</th>\n",
       "      <td>46659.0</td>\n",
       "      <td>2.0</td>\n",
       "    </tr>\n",
       "    <tr>\n",
       "      <th>3</th>\n",
       "      <td>40233.0</td>\n",
       "      <td>1.0</td>\n",
       "    </tr>\n",
       "    <tr>\n",
       "      <th>4</th>\n",
       "      <td>42198.0</td>\n",
       "      <td>1.0</td>\n",
       "    </tr>\n",
       "    <tr>\n",
       "      <th>5</th>\n",
       "      <td>69102.0</td>\n",
       "      <td>2.0</td>\n",
       "    </tr>\n",
       "    <tr>\n",
       "      <th>6</th>\n",
       "      <td>40324.0</td>\n",
       "      <td>1.0</td>\n",
       "    </tr>\n",
       "    <tr>\n",
       "      <th>7</th>\n",
       "      <td>74456.0</td>\n",
       "      <td>2.0</td>\n",
       "    </tr>\n",
       "    <tr>\n",
       "      <th>8</th>\n",
       "      <td>36792.0</td>\n",
       "      <td>1.0</td>\n",
       "    </tr>\n",
       "    <tr>\n",
       "      <th>9</th>\n",
       "      <td>41007.0</td>\n",
       "      <td>1.0</td>\n",
       "    </tr>\n",
       "    <tr>\n",
       "      <th>10</th>\n",
       "      <td>105679.0</td>\n",
       "      <td>2.0</td>\n",
       "    </tr>\n",
       "    <tr>\n",
       "      <th>11</th>\n",
       "      <td>85530.0</td>\n",
       "      <td>2.0</td>\n",
       "    </tr>\n",
       "    <tr>\n",
       "      <th>12</th>\n",
       "      <td>26312.0</td>\n",
       "      <td>1.0</td>\n",
       "    </tr>\n",
       "    <tr>\n",
       "      <th>13</th>\n",
       "      <td>39672.0</td>\n",
       "      <td>2.0</td>\n",
       "    </tr>\n",
       "    <tr>\n",
       "      <th>14</th>\n",
       "      <td>69279.0</td>\n",
       "      <td>2.0</td>\n",
       "    </tr>\n",
       "    <tr>\n",
       "      <th>15</th>\n",
       "      <td>30221.0</td>\n",
       "      <td>1.0</td>\n",
       "    </tr>\n",
       "    <tr>\n",
       "      <th>16</th>\n",
       "      <td>34674.0</td>\n",
       "      <td>1.0</td>\n",
       "    </tr>\n",
       "    <tr>\n",
       "      <th>17</th>\n",
       "      <td>39197.0</td>\n",
       "      <td>2.0</td>\n",
       "    </tr>\n",
       "    <tr>\n",
       "      <th>18</th>\n",
       "      <td>52404.0</td>\n",
       "      <td>2.0</td>\n",
       "    </tr>\n",
       "    <tr>\n",
       "      <th>19</th>\n",
       "      <td>39137.0</td>\n",
       "      <td>1.0</td>\n",
       "    </tr>\n",
       "  </tbody>\n",
       "</table>\n",
       "</div>"
      ],
      "text/plain": [
       "      Salary  Position\n",
       "0    57727.0       2.0\n",
       "1    39907.0       1.0\n",
       "2    46659.0       2.0\n",
       "3    40233.0       1.0\n",
       "4    42198.0       1.0\n",
       "5    69102.0       2.0\n",
       "6    40324.0       1.0\n",
       "7    74456.0       2.0\n",
       "8    36792.0       1.0\n",
       "9    41007.0       1.0\n",
       "10  105679.0       2.0\n",
       "11   85530.0       2.0\n",
       "12   26312.0       1.0\n",
       "13   39672.0       2.0\n",
       "14   69279.0       2.0\n",
       "15   30221.0       1.0\n",
       "16   34674.0       1.0\n",
       "17   39197.0       2.0\n",
       "18   52404.0       2.0\n",
       "19   39137.0       1.0"
      ]
     },
     "execution_count": 6,
     "metadata": {},
     "output_type": "execute_result"
    }
   ],
   "source": [
    "data = pd.read_csv('../data/salaries.csv')\n",
    "data"
   ]
  },
  {
   "attachments": {},
   "cell_type": "markdown",
   "metadata": {},
   "source": [
    "- ### **Separamos los grupos:**"
   ]
  },
  {
   "cell_type": "code",
   "execution_count": 7,
   "metadata": {},
   "outputs": [
    {
     "data": {
      "text/html": [
       "<div>\n",
       "<style scoped>\n",
       "    .dataframe tbody tr th:only-of-type {\n",
       "        vertical-align: middle;\n",
       "    }\n",
       "\n",
       "    .dataframe tbody tr th {\n",
       "        vertical-align: top;\n",
       "    }\n",
       "\n",
       "    .dataframe thead th {\n",
       "        text-align: right;\n",
       "    }\n",
       "</style>\n",
       "<table border=\"1\" class=\"dataframe\">\n",
       "  <thead>\n",
       "    <tr style=\"text-align: right;\">\n",
       "      <th></th>\n",
       "      <th>Salary</th>\n",
       "      <th>Position</th>\n",
       "    </tr>\n",
       "  </thead>\n",
       "  <tbody>\n",
       "    <tr>\n",
       "      <th>0</th>\n",
       "      <td>57727.0</td>\n",
       "      <td>2.0</td>\n",
       "    </tr>\n",
       "    <tr>\n",
       "      <th>2</th>\n",
       "      <td>46659.0</td>\n",
       "      <td>2.0</td>\n",
       "    </tr>\n",
       "    <tr>\n",
       "      <th>5</th>\n",
       "      <td>69102.0</td>\n",
       "      <td>2.0</td>\n",
       "    </tr>\n",
       "    <tr>\n",
       "      <th>7</th>\n",
       "      <td>74456.0</td>\n",
       "      <td>2.0</td>\n",
       "    </tr>\n",
       "    <tr>\n",
       "      <th>10</th>\n",
       "      <td>105679.0</td>\n",
       "      <td>2.0</td>\n",
       "    </tr>\n",
       "    <tr>\n",
       "      <th>11</th>\n",
       "      <td>85530.0</td>\n",
       "      <td>2.0</td>\n",
       "    </tr>\n",
       "    <tr>\n",
       "      <th>13</th>\n",
       "      <td>39672.0</td>\n",
       "      <td>2.0</td>\n",
       "    </tr>\n",
       "    <tr>\n",
       "      <th>14</th>\n",
       "      <td>69279.0</td>\n",
       "      <td>2.0</td>\n",
       "    </tr>\n",
       "    <tr>\n",
       "      <th>17</th>\n",
       "      <td>39197.0</td>\n",
       "      <td>2.0</td>\n",
       "    </tr>\n",
       "    <tr>\n",
       "      <th>18</th>\n",
       "      <td>52404.0</td>\n",
       "      <td>2.0</td>\n",
       "    </tr>\n",
       "  </tbody>\n",
       "</table>\n",
       "</div>"
      ],
      "text/plain": [
       "      Salary  Position\n",
       "0    57727.0       2.0\n",
       "2    46659.0       2.0\n",
       "5    69102.0       2.0\n",
       "7    74456.0       2.0\n",
       "10  105679.0       2.0\n",
       "11   85530.0       2.0\n",
       "13   39672.0       2.0\n",
       "14   69279.0       2.0\n",
       "17   39197.0       2.0\n",
       "18   52404.0       2.0"
      ]
     },
     "execution_count": 7,
     "metadata": {},
     "output_type": "execute_result"
    }
   ],
   "source": [
    "group1 = data[data.Position == 1]\n",
    "group2 = data[data.Position == 2]\n",
    "group2\n"
   ]
  },
  {
   "attachments": {},
   "cell_type": "markdown",
   "metadata": {},
   "source": [
    "- ### **Calculamos residuos a cada grupo:**"
   ]
  },
  {
   "cell_type": "code",
   "execution_count": 8,
   "metadata": {},
   "outputs": [],
   "source": [
    "mean1 = group1.Salary.mean()\n",
    "mean2 = group2.Salary.mean()\n",
    "res1 = group1.Salary - mean1\n",
    "res2 = group2.Salary - mean2\n"
   ]
  },
  {
   "attachments": {},
   "cell_type": "markdown",
   "metadata": {},
   "source": [
    "- ### **Realizamos test de normalidad:**"
   ]
  },
  {
   "cell_type": "code",
   "execution_count": 9,
   "metadata": {},
   "outputs": [
    {
     "name": "stdout",
     "output_type": "stream",
     "text": [
      "------------------------Vendedores--------------------------- \n",
      "\n",
      "Usando test Andrerson-Darling para prueba de distribución normal\n",
      "P_valor por debajo de 0.05, Significa que no es normal 0.044334003125444804\n",
      "Los residuos no tienen distribución normal \n",
      "\n",
      "Usando test Shapiro Wilks para prueba de distribución normal\n",
      "P_valor por debajo de 0.05, Significa que no es normal 0.04937705025076866\n",
      "Los residuos no tienen distribución normal \n",
      "\n"
     ]
    },
    {
     "data": {
      "image/png": "[encoded data removed]",
      "text/plain": [
       "<Figure size 1200x600 with 1 Axes>"
      ]
     },
     "metadata": {},
     "output_type": "display_data"
    },
    {
     "name": "stdout",
     "output_type": "stream",
     "text": [
      "\n",
      "No se cumple la hipotesis nula\n",
      "\n",
      "Es probable que los intervalos de confianza se vean afectados\n",
      "Intente realizar transformaciones no lineales en las variables\n",
      "------------------------Gerentes--------------------------- \n",
      "\n",
      "Usando test Andrerson-Darling para prueba de distribución normal\n",
      "P_valor por debajo de 0.05, Significa que no es normal 0.6866418530842298\n",
      "Los residuos estan distribuidos normalmente \n",
      "\n",
      "Usando test Shapiro Wilks para prueba de distribución normal\n",
      "P_valor por debajo de 0.05, Significa que no es normal 0.5692880153656006\n",
      "Los residuos estan distribuidos normalmente \n",
      "\n"
     ]
    },
    {
     "data": {
      "image/png": "[encoded data removed]",
      "text/plain": [
       "<Figure size 1200x600 with 1 Axes>"
      ]
     },
     "metadata": {},
     "output_type": "display_data"
    },
    {
     "name": "stdout",
     "output_type": "stream",
     "text": [
      "\n",
      "Se cumple la hipotesis nula\n"
     ]
    }
   ],
   "source": [
    "import warnings\n",
    "\n",
    "warnings.filterwarnings(\"ignore\", category=DeprecationWarning)\n",
    "# Realizando test a los residuos\n",
    "significancia = 0.05\n",
    "\n",
    "print('------------------------Vendedores---------------------------','\\n')\n",
    "print('Usando test Andrerson-Darling para prueba de distribución normal')\n",
    "p_valor = normal_ad(res1)[1]\n",
    "print('P_valor por debajo de 0.05, Significa que no es normal', p_valor)\n",
    "\n",
    "#Reporte de normalidad de los residuos\n",
    "if p_valor < significancia:\n",
    "    print('Los residuos no tienen distribución normal', '\\n')\n",
    "else:\n",
    "    print('Los residuos estan distribuidos normalmente', '\\n')\n",
    "\n",
    "print('Usando test Shapiro Wilks para prueba de distribución normal')\n",
    "\n",
    "p_valor_test_shapiro = shapiro(res1)\n",
    "estat_shapiro_test = p_valor_test_shapiro[0]\n",
    "p_valor_test_shapiro = p_valor_test_shapiro[1]\n",
    "print('P_valor por debajo de 0.05, Significa que no es normal', p_valor_test_shapiro)\n",
    "\n",
    "\n",
    "#Reporte de normalidad de los residuos\n",
    "if p_valor_test_shapiro < significancia:\n",
    "    print('Los residuos no tienen distribución normal', '\\n')\n",
    "else:\n",
    "    print('Los residuos estan distribuidos normalmente', '\\n')\n",
    "\n",
    "#Graficando la distribución de los residuos\n",
    "plt.figure(figsize=(12, 6))\n",
    "plt.title('Distribución de residuos')\n",
    "sns.histplot(res1, kde=True)\n",
    "plt.show()\n",
    "\n",
    "print()\n",
    "if p_valor > significancia:\n",
    "    print('Se cumple la hipotesis nula')\n",
    "else:\n",
    "    print('No se cumple la hipotesis nula')\n",
    "    print()\n",
    "    print('Es probable que los intervalos de confianza se vean afectados')\n",
    "    print('Intente realizar transformaciones no lineales en las variables')\n",
    "\n",
    "########################################################################################\n",
    "#Realizando test  a los residuos\n",
    "\n",
    "significancia2 = 0.05\n",
    "\n",
    "print('------------------------Gerentes---------------------------','\\n')\n",
    "print('Usando test Andrerson-Darling para prueba de distribución normal')\n",
    "p_valor2 = normal_ad(res2)[1]\n",
    "print('P_valor por debajo de 0.05, Significa que no es normal', p_valor2)\n",
    "\n",
    "#Reporte de normalidad de los residuos\n",
    "if p_valor2 < significancia2:\n",
    "    print('Los residuos no tienen distribución normal', '\\n')\n",
    "else:\n",
    "    print('Los residuos estan distribuidos normalmente', '\\n')\n",
    "\n",
    "print('Usando test Shapiro Wilks para prueba de distribución normal')\n",
    "\n",
    "p_valor_test_shapiro2 = shapiro(res2)\n",
    "estat_shapiro_test2 = p_valor_test_shapiro2[0]\n",
    "p_valor_test_shapiro2 = p_valor_test_shapiro2[1]\n",
    "print('P_valor por debajo de 0.05, Significa que no es normal', p_valor_test_shapiro2)\n",
    "\n",
    "\n",
    "#Reporte de normalidad de los residuos\n",
    "if p_valor_test_shapiro2 < significancia2:\n",
    "    print('Los residuos no tienen distribución normal', '\\n')\n",
    "else:\n",
    "    print('Los residuos estan distribuidos normalmente', '\\n')\n",
    "\n",
    "#Graficando la distribución de los residuos\n",
    "plt.figure(figsize=(12, 6))\n",
    "plt.title('Distribución de residuos')\n",
    "sns.histplot(res2, kde=True)\n",
    "plt.show()\n",
    "\n",
    "\n",
    "print()\n",
    "if p_valor2 > significancia2:\n",
    "    print('Se cumple la hipotesis nula')\n",
    "else:\n",
    "    print('No se cumple la hipotesis nula')\n",
    "    print()\n",
    "    print('Es probable que los intervalos de confianza se vean afectados')\n",
    "    print('Intente realizar transformaciones no lineales en las variables')\n",
    "\n",
    "warnings.filterwarnings(\"ignore\", category=DeprecationWarning)\n"
   ]
  },
  {
   "attachments": {},
   "cell_type": "markdown",
   "metadata": {},
   "source": [
    "Debido a que no se cumple la distribución normal para ambos grupos, no es posible realizar pruebas parametricas sobre los datos."
   ]
  },
  {
   "attachments": {},
   "cell_type": "markdown",
   "metadata": {},
   "source": [
    "- ### **Aplicamos la prueba Man Whitney**"
   ]
  },
  {
   "cell_type": "code",
   "execution_count": 10,
   "metadata": {},
   "outputs": [
    {
     "name": "stdout",
     "output_type": "stream",
     "text": [
      "p-value:  0.0014136360455584039\n"
     ]
    }
   ],
   "source": [
    "stat, p = mannwhitneyu(group1.Salary, group2.Salary, alternative='less')\n",
    "print('p-value: ', p)"
   ]
  },
  {
   "attachments": {},
   "cell_type": "markdown",
   "metadata": {},
   "source": [
    "- ### **Conclusión**\n",
    "\n",
    "P-valor < 0.05, entonces hay una diferencia significativa entre los sueldos del personal de ventas y el de los gerentes, todavez que los sueldos de los gerentes tienen un sueldo significativamente mayor que el de personal de ventas."
   ]
  },
  {
   "attachments": {},
   "cell_type": "markdown",
   "metadata": {},
   "source": [
    "# **2. Prueba de Kruskal - Wallis 'K'**"
   ]
  },
  {
   "attachments": {},
   "cell_type": "markdown",
   "metadata": {},
   "source": [
    "La prueba de Kruskal-Wallis es una prueba no paramétrica utilizada para comparar tres o más grupos independientes y se utiliza cuando los datos no cumplen con los supuestos de normalidad o cuando se trabaja con variables ordinales."
   ]
  },
  {
   "attachments": {},
   "cell_type": "markdown",
   "metadata": {},
   "source": [
    "## **Ejemplo No. 1**"
   ]
  },
  {
   "attachments": {},
   "cell_type": "markdown",
   "metadata": {},
   "source": [
    "- ### **Contexto:**\n",
    "Los datos objetos de la siguiente prueba corresponden a un estudio de medicamentos en el que comparamos las clasificaciones de dolor en cuatro grupos de dosificación diferentes:\n",
    "\n",
    "- Valor 1: 100 mg\n",
    "- Valor 2: 250 mg\n",
    "- Valor 3: 500 mg\n",
    "- Valor 4: 1000 mg\n",
    "\n",
    "A los 38 participantes de este estudio se le administra el medicamento en alguna de esas cantidades y luego se pide que clasifique su dolor en una escala del uno al siete, donde 1 es poco dolor y 7 es mucho dolor."
   ]
  },
  {
   "attachments": {},
   "cell_type": "markdown",
   "metadata": {},
   "source": [
    "- ### **Objetivo:**\n",
    "Confirmar si existe diferencia significativa de dolor reportado entre los grupos de dosis de medicamentos e identificar entre cuales grupos se encuentran las diferencias \n"
   ]
  },
  {
   "attachments": {},
   "cell_type": "markdown",
   "metadata": {},
   "source": [
    "- ### **Importamos librerías:** "
   ]
  },
  {
   "cell_type": "code",
   "execution_count": 3,
   "metadata": {},
   "outputs": [],
   "source": [
    "import numpy as np\n",
    "from scipy.stats import kruskal"
   ]
  },
  {
   "attachments": {},
   "cell_type": "markdown",
   "metadata": {},
   "source": [
    "- ### **Cargamos el dataset:**"
   ]
  },
  {
   "cell_type": "code",
   "execution_count": 7,
   "metadata": {},
   "outputs": [
    {
     "data": {
      "text/html": [
       "<div>\n",
       "<style scoped>\n",
       "    .dataframe tbody tr th:only-of-type {\n",
       "        vertical-align: middle;\n",
       "    }\n",
       "\n",
       "    .dataframe tbody tr th {\n",
       "        vertical-align: top;\n",
       "    }\n",
       "\n",
       "    .dataframe thead th {\n",
       "        text-align: right;\n",
       "    }\n",
       "</style>\n",
       "<table border=\"1\" class=\"dataframe\">\n",
       "  <thead>\n",
       "    <tr style=\"text-align: right;\">\n",
       "      <th></th>\n",
       "      <th>dose</th>\n",
       "      <th>rating</th>\n",
       "    </tr>\n",
       "  </thead>\n",
       "  <tbody>\n",
       "    <tr>\n",
       "      <th>0</th>\n",
       "      <td>1.0</td>\n",
       "      <td>6.0</td>\n",
       "    </tr>\n",
       "    <tr>\n",
       "      <th>1</th>\n",
       "      <td>1.0</td>\n",
       "      <td>4.0</td>\n",
       "    </tr>\n",
       "    <tr>\n",
       "      <th>2</th>\n",
       "      <td>1.0</td>\n",
       "      <td>6.0</td>\n",
       "    </tr>\n",
       "    <tr>\n",
       "      <th>3</th>\n",
       "      <td>1.0</td>\n",
       "      <td>5.0</td>\n",
       "    </tr>\n",
       "    <tr>\n",
       "      <th>4</th>\n",
       "      <td>1.0</td>\n",
       "      <td>4.0</td>\n",
       "    </tr>\n",
       "    <tr>\n",
       "      <th>5</th>\n",
       "      <td>1.0</td>\n",
       "      <td>3.0</td>\n",
       "    </tr>\n",
       "    <tr>\n",
       "      <th>6</th>\n",
       "      <td>1.0</td>\n",
       "      <td>7.0</td>\n",
       "    </tr>\n",
       "    <tr>\n",
       "      <th>7</th>\n",
       "      <td>1.0</td>\n",
       "      <td>7.0</td>\n",
       "    </tr>\n",
       "    <tr>\n",
       "      <th>8</th>\n",
       "      <td>1.0</td>\n",
       "      <td>6.0</td>\n",
       "    </tr>\n",
       "    <tr>\n",
       "      <th>9</th>\n",
       "      <td>1.0</td>\n",
       "      <td>4.0</td>\n",
       "    </tr>\n",
       "    <tr>\n",
       "      <th>10</th>\n",
       "      <td>1.0</td>\n",
       "      <td>4.0</td>\n",
       "    </tr>\n",
       "    <tr>\n",
       "      <th>11</th>\n",
       "      <td>2.0</td>\n",
       "      <td>4.0</td>\n",
       "    </tr>\n",
       "    <tr>\n",
       "      <th>12</th>\n",
       "      <td>2.0</td>\n",
       "      <td>3.0</td>\n",
       "    </tr>\n",
       "    <tr>\n",
       "      <th>13</th>\n",
       "      <td>2.0</td>\n",
       "      <td>2.0</td>\n",
       "    </tr>\n",
       "    <tr>\n",
       "      <th>14</th>\n",
       "      <td>2.0</td>\n",
       "      <td>5.0</td>\n",
       "    </tr>\n",
       "    <tr>\n",
       "      <th>15</th>\n",
       "      <td>2.0</td>\n",
       "      <td>3.0</td>\n",
       "    </tr>\n",
       "    <tr>\n",
       "      <th>16</th>\n",
       "      <td>2.0</td>\n",
       "      <td>3.0</td>\n",
       "    </tr>\n",
       "    <tr>\n",
       "      <th>17</th>\n",
       "      <td>2.0</td>\n",
       "      <td>4.0</td>\n",
       "    </tr>\n",
       "    <tr>\n",
       "      <th>18</th>\n",
       "      <td>2.0</td>\n",
       "      <td>2.0</td>\n",
       "    </tr>\n",
       "    <tr>\n",
       "      <th>19</th>\n",
       "      <td>2.0</td>\n",
       "      <td>4.0</td>\n",
       "    </tr>\n",
       "    <tr>\n",
       "      <th>20</th>\n",
       "      <td>3.0</td>\n",
       "      <td>2.0</td>\n",
       "    </tr>\n",
       "    <tr>\n",
       "      <th>21</th>\n",
       "      <td>3.0</td>\n",
       "      <td>3.0</td>\n",
       "    </tr>\n",
       "    <tr>\n",
       "      <th>22</th>\n",
       "      <td>3.0</td>\n",
       "      <td>4.0</td>\n",
       "    </tr>\n",
       "    <tr>\n",
       "      <th>23</th>\n",
       "      <td>3.0</td>\n",
       "      <td>2.0</td>\n",
       "    </tr>\n",
       "    <tr>\n",
       "      <th>24</th>\n",
       "      <td>3.0</td>\n",
       "      <td>1.0</td>\n",
       "    </tr>\n",
       "    <tr>\n",
       "      <th>25</th>\n",
       "      <td>3.0</td>\n",
       "      <td>3.0</td>\n",
       "    </tr>\n",
       "    <tr>\n",
       "      <th>26</th>\n",
       "      <td>3.0</td>\n",
       "      <td>3.0</td>\n",
       "    </tr>\n",
       "    <tr>\n",
       "      <th>27</th>\n",
       "      <td>3.0</td>\n",
       "      <td>2.0</td>\n",
       "    </tr>\n",
       "    <tr>\n",
       "      <th>28</th>\n",
       "      <td>3.0</td>\n",
       "      <td>3.0</td>\n",
       "    </tr>\n",
       "    <tr>\n",
       "      <th>29</th>\n",
       "      <td>3.0</td>\n",
       "      <td>1.0</td>\n",
       "    </tr>\n",
       "    <tr>\n",
       "      <th>30</th>\n",
       "      <td>4.0</td>\n",
       "      <td>2.0</td>\n",
       "    </tr>\n",
       "    <tr>\n",
       "      <th>31</th>\n",
       "      <td>4.0</td>\n",
       "      <td>3.0</td>\n",
       "    </tr>\n",
       "    <tr>\n",
       "      <th>32</th>\n",
       "      <td>4.0</td>\n",
       "      <td>1.0</td>\n",
       "    </tr>\n",
       "    <tr>\n",
       "      <th>33</th>\n",
       "      <td>4.0</td>\n",
       "      <td>3.0</td>\n",
       "    </tr>\n",
       "    <tr>\n",
       "      <th>34</th>\n",
       "      <td>4.0</td>\n",
       "      <td>3.0</td>\n",
       "    </tr>\n",
       "    <tr>\n",
       "      <th>35</th>\n",
       "      <td>4.0</td>\n",
       "      <td>2.0</td>\n",
       "    </tr>\n",
       "    <tr>\n",
       "      <th>36</th>\n",
       "      <td>4.0</td>\n",
       "      <td>4.0</td>\n",
       "    </tr>\n",
       "    <tr>\n",
       "      <th>37</th>\n",
       "      <td>4.0</td>\n",
       "      <td>1.0</td>\n",
       "    </tr>\n",
       "  </tbody>\n",
       "</table>\n",
       "</div>"
      ],
      "text/plain": [
       "    dose  rating\n",
       "0    1.0     6.0\n",
       "1    1.0     4.0\n",
       "2    1.0     6.0\n",
       "3    1.0     5.0\n",
       "4    1.0     4.0\n",
       "5    1.0     3.0\n",
       "6    1.0     7.0\n",
       "7    1.0     7.0\n",
       "8    1.0     6.0\n",
       "9    1.0     4.0\n",
       "10   1.0     4.0\n",
       "11   2.0     4.0\n",
       "12   2.0     3.0\n",
       "13   2.0     2.0\n",
       "14   2.0     5.0\n",
       "15   2.0     3.0\n",
       "16   2.0     3.0\n",
       "17   2.0     4.0\n",
       "18   2.0     2.0\n",
       "19   2.0     4.0\n",
       "20   3.0     2.0\n",
       "21   3.0     3.0\n",
       "22   3.0     4.0\n",
       "23   3.0     2.0\n",
       "24   3.0     1.0\n",
       "25   3.0     3.0\n",
       "26   3.0     3.0\n",
       "27   3.0     2.0\n",
       "28   3.0     3.0\n",
       "29   3.0     1.0\n",
       "30   4.0     2.0\n",
       "31   4.0     3.0\n",
       "32   4.0     1.0\n",
       "33   4.0     3.0\n",
       "34   4.0     3.0\n",
       "35   4.0     2.0\n",
       "36   4.0     4.0\n",
       "37   4.0     1.0"
      ]
     },
     "execution_count": 7,
     "metadata": {},
     "output_type": "execute_result"
    }
   ],
   "source": [
    "data = pd.read_csv('..//data/drugstudy.csv')\n",
    "data"
   ]
  },
  {
   "attachments": {},
   "cell_type": "markdown",
   "metadata": {},
   "source": [
    "- ### **Separamos los grupos:**"
   ]
  },
  {
   "cell_type": "code",
   "execution_count": 8,
   "metadata": {},
   "outputs": [
    {
     "data": {
      "text/plain": [
       "array([2., 3., 1., 3., 3., 2., 4., 1.])"
      ]
     },
     "execution_count": 8,
     "metadata": {},
     "output_type": "execute_result"
    }
   ],
   "source": [
    "grupo1 = data[data.dose == 1.0]['rating'].values\n",
    "grupo2 = data[data.dose == 2.0]['rating'].values\n",
    "grupo3 = data[data.dose == 3.0]['rating'].values\n",
    "grupo4 = data[data.dose == 4.0]['rating'].values\n",
    "grupo4\n"
   ]
  },
  {
   "attachments": {},
   "cell_type": "markdown",
   "metadata": {},
   "source": [
    "- ### **Comparamos los 4 grupos con la prueba de Kruskal Wallis:**"
   ]
  },
  {
   "cell_type": "code",
   "execution_count": 10,
   "metadata": {},
   "outputs": [
    {
     "name": "stdout",
     "output_type": "stream",
     "text": [
      "Estadistico=19.404, p=0.000\n",
      "Rechazamos H0: hay diferencias significativas entre los grupos.\n"
     ]
    }
   ],
   "source": [
    "stat, p = kruskal(grupo1, grupo2, grupo3, grupo4)\n",
    "print('Estadistico=%.3f, p=%.3f' % (stat, p))\n",
    "\n",
    "#Interpretación\n",
    "alpha = 0.05\n",
    "if p > alpha:\n",
    "    print('No rechazamos H0: No hay diferencias significativas entre los grupos.')\n",
    "else:\n",
    "    print('Rechazamos H0: hay diferencias significativas entre los grupos.')\n"
   ]
  },
  {
   "attachments": {},
   "cell_type": "markdown",
   "metadata": {},
   "source": [
    "- ### **Comparamos los pares grupos con la pruewba Mann Whitney:**\n",
    "Debido a que la prueba Kruskal - Wallis me informa si hay diferencia en al menos dos o más grupos, y no detalla especificamente en que grupos se encuentra la diferencia, se deben realizar pruebas Mann Whitney entre pares de grupos para encontrar exactamente donde está la diferencia.\n",
    "\n",
    "Lo que esperamos que pase es que mientras más alta sea la dosis, menor dolor tendrá el paciente, así por ejemplo muy probablemente el grupo 4 (que tiene la mayor dosis) tendrá en la variable 'rating' valores más pequeños porque los pacientes posiblemente reportarán menor dolor al haber recibido mayor dosis del medicamento. Pero en las diferentes combinaciones entre estos 4 grupos (6 combinaciones) no sabemos muy bien lo que puede pasar, entonces lo que vamos a investigar es si hay diferencia significativa sin importar si se reporta menor o mayor dolor, es decir, que pondremos como hipotesis alternativa \"two-sided\" que significa que estamos considerando ambas posibilidades pero que al fin y al cabo el que se cumpla cualquiera de ellas quiere decir que hay diferencia significativa, que es lo que nos interesa saber."
   ]
  },
  {
   "cell_type": "code",
   "execution_count": 4,
   "metadata": {},
   "outputs": [
    {
     "data": {
      "text/plain": [
       "0.008333333333333333"
      ]
     },
     "execution_count": 4,
     "metadata": {},
     "output_type": "execute_result"
    }
   ],
   "source": [
    "#Bonferroni\n",
    "alpha_nuevo = 0.05 / 6\n",
    "alpha_nuevo"
   ]
  },
  {
   "cell_type": "code",
   "execution_count": 12,
   "metadata": {},
   "outputs": [
    {
     "name": "stdout",
     "output_type": "stream",
     "text": [
      "P_valor:  0.009911377465815045\n",
      "No rechzamos H0: No hay diferencia significativa entre los grupos 1 y 2\n"
     ]
    }
   ],
   "source": [
    "stat, p = mannwhitneyu(grupo1, grupo2, alternative = 'two-sided')\n",
    "print('P_valor: ', p)\n",
    "\n",
    "\n",
    "if p > alpha_nuevo:\n",
    "    print('No rechzamos H0: No hay diferencia significativa entre los grupos 1 y 2')\n",
    "else:\n",
    "    print('Rechzamos H0: hay diferencia significativa entre los grupos 1 y 2')\n"
   ]
  },
  {
   "cell_type": "code",
   "execution_count": 13,
   "metadata": {},
   "outputs": [
    {
     "name": "stdout",
     "output_type": "stream",
     "text": [
      "P_valor:  0.00039457325940790667\n",
      "Rechzamos H0: hay diferencia significativa entre los grupos 1 y 3\n"
     ]
    }
   ],
   "source": [
    "stat, p = mannwhitneyu(grupo1, grupo3, alternative = 'two-sided')\n",
    "print('P_valor: ', p)\n",
    "\n",
    "\n",
    "if p > alpha_nuevo:\n",
    "    print('No rechzamos H0: No hay diferencia significativa entre los grupos 1 y 3')\n",
    "else:\n",
    "    print('Rechzamos H0: hay diferencia significativa entre los grupos 1 y 3')"
   ]
  },
  {
   "cell_type": "code",
   "execution_count": 14,
   "metadata": {},
   "outputs": [
    {
     "name": "stdout",
     "output_type": "stream",
     "text": [
      "P_valor:  0.0010607936166658369\n",
      "Rechzamos H0: hay diferencia significativa entre los grupos 1 y 4\n"
     ]
    }
   ],
   "source": [
    "stat, p = mannwhitneyu(grupo1, grupo4, alternative = 'two-sided')\n",
    "print('P_valor: ', p)\n",
    "\n",
    "\n",
    "if p > alpha_nuevo:\n",
    "    print('No rechzamos H0: No hay diferencia significativa entre los grupos 1 y 4')\n",
    "else:\n",
    "    print('Rechzamos H0: hay diferencia significativa entre los grupos 1 y 4')"
   ]
  },
  {
   "cell_type": "code",
   "execution_count": 15,
   "metadata": {},
   "outputs": [
    {
     "name": "stdout",
     "output_type": "stream",
     "text": [
      "P_valor:  0.07441228142144751\n",
      "No rechzamos H0: No hay diferencia significativa entre los grupos 2 y 3\n"
     ]
    }
   ],
   "source": [
    "stat, p = mannwhitneyu(grupo2, grupo3, alternative = 'two-sided')\n",
    "print('P_valor: ', p)\n",
    "\n",
    "\n",
    "if p > alpha_nuevo:\n",
    "    print('No rechzamos H0: No hay diferencia significativa entre los grupos 2 y 3')\n",
    "else:\n",
    "    print('Rechzamos H0: hay diferencia significativa entre los grupos 2 y 3')"
   ]
  },
  {
   "cell_type": "code",
   "execution_count": 16,
   "metadata": {},
   "outputs": [
    {
     "name": "stdout",
     "output_type": "stream",
     "text": [
      "P_valor:  0.09993509549720665\n",
      "No rechzamos H0: No hay diferencia significativa entre los grupos 2 y 4\n"
     ]
    }
   ],
   "source": [
    "stat, p = mannwhitneyu(grupo2, grupo4, alternative = 'two-sided')\n",
    "print('P_valor: ', p)\n",
    "\n",
    "\n",
    "if p > alpha_nuevo:\n",
    "    print('No rechzamos H0: No hay diferencia significativa entre los grupos 2 y 4')\n",
    "else:\n",
    "    print('Rechzamos H0: hay diferencia significativa entre los grupos 2 y 4')"
   ]
  },
  {
   "cell_type": "code",
   "execution_count": 17,
   "metadata": {},
   "outputs": [
    {
     "name": "stdout",
     "output_type": "stream",
     "text": [
      "P_valor:  1.0\n",
      "No rechzamos H0: No hay diferencia significativa entre los grupos 3 y 4\n"
     ]
    }
   ],
   "source": [
    "stat, p = mannwhitneyu(grupo3, grupo4, alternative = 'two-sided')\n",
    "print('P_valor: ', p)\n",
    "\n",
    "\n",
    "if p > alpha_nuevo:\n",
    "    print('No rechzamos H0: No hay diferencia significativa entre los grupos 3 y 4')\n",
    "else:\n",
    "    print('Rechzamos H0: hay diferencia significativa entre los grupos 3 y 4')"
   ]
  },
  {
   "cell_type": "markdown",
   "metadata": {},
   "source": [
    "- ### **Conclusión:**\n",
    "Según la prueba de Kruskal Wallis de comparación de grupos independientes existen diferencias significativas entre los valores reportados de dolor de acuerdo a la dosis recibida del medicamento.\n",
    "\n",
    "Según las pruebas de Man Whitney de pares de grupos hay diferencias significativas entre los grupos:\n",
    "- 1 y 3 (100mg vs 500mg)\n",
    "- 1 y 4 (100mg vs 1000mg)\n",
    "\n",
    "El dolor reportado por los pacientes no difiere significativamente entre los grupos que tomaron dosis de 250mg, 500mg y 1000mg"
   ]
  },
  {
   "cell_type": "markdown",
   "metadata": {},
   "source": [
    "# **3. Prueba Wilcoxon**\n",
    "Es una prueba no parámetrica utilizada en estadística para comparar dos muestras relacionadas, repetidas o pareadas:\n",
    "- **Relacionadas**: No se consideran independientes porque los grupos comparten una característica en común.\n",
    "- **Repetidas**: información de las mismas personas o grupos en diferentes momentos o situaciones para observar cómo cambian o evolucionan con el tiempo o bajo distintas condiciones.\n",
    "- **Pareadas**: Cuando se recopila la misma medición de las mismas personas en más de una ocasión, para verificar su evolución o comportamiento.\n",
    "\n",
    "Esta prueba se utiliza cuando:\n",
    "- Los datos no cumplen los supuestos de normalidad para realizar una prueba parámetrica como la prueba t-student.\n",
    "\n",
    "- Para determinar si existe diferencias entre las muestras.\n",
    "\n",
    "- Cuando la prueba Man-Whitney no se puede utilizar."
   ]
  },
  {
   "cell_type": "markdown",
   "metadata": {},
   "source": [
    "## **Ejemplo No. 1**"
   ]
  },
  {
   "cell_type": "markdown",
   "metadata": {},
   "source": [
    "- ### **Contexto:**\n",
    "Trabajaremos un dataset que contiene datos de ingresos para Tiendas Minoristas para el primer y segundo trimestre. La consideramos una prueba pareada porque es la misma tienda en dos trimestre diferentes y necesitamos verificar su evolución.\n",
    "\n",
    "- ### **Objetivo:**\n",
    "Evidenciar si los ingresos del segundo trimestre comparados con el primero tienen diferencias significativas."
   ]
  },
  {
   "cell_type": "markdown",
   "metadata": {},
   "source": [
    "- ### **Importamos librerías:**"
   ]
  },
  {
   "cell_type": "code",
   "execution_count": 19,
   "metadata": {},
   "outputs": [],
   "source": [
    "import numpy as np #Proporciona funciones y herramientas para trabajar con matrices\n",
    "import pandas as pd #Permite manipular y analizar estructura de datos\n",
    "import matplotlib.pyplot as plt #Permite crear graficos y visualizaciones\n",
    "import seaborn as sns #Ofrece graficos y visualizaciones adicionales\n",
    "from scipy import stats #Proporciona herramientas para crear calculos cientificos y estadisticos\n",
    "from scipy.stats import wilcoxon # Permite realizar la prueba no paramétrica\n",
    "from statsmodels.stats.anova import AnovaRM # Permite importar la clase AnovaRM para realizar analisis de varianzas."
   ]
  },
  {
   "cell_type": "markdown",
   "metadata": {},
   "source": [
    "- ### **Cargamos Datasets:**"
   ]
  },
  {
   "cell_type": "code",
   "execution_count": 4,
   "metadata": {},
   "outputs": [
    {
     "data": {
      "text/html": [
       "<div>\n",
       "<style scoped>\n",
       "    .dataframe tbody tr th:only-of-type {\n",
       "        vertical-align: middle;\n",
       "    }\n",
       "\n",
       "    .dataframe tbody tr th {\n",
       "        vertical-align: top;\n",
       "    }\n",
       "\n",
       "    .dataframe thead th {\n",
       "        text-align: right;\n",
       "    }\n",
       "</style>\n",
       "<table border=\"1\" class=\"dataframe\">\n",
       "  <thead>\n",
       "    <tr style=\"text-align: right;\">\n",
       "      <th></th>\n",
       "      <th>Q1</th>\n",
       "      <th>Q2</th>\n",
       "    </tr>\n",
       "  </thead>\n",
       "  <tbody>\n",
       "    <tr>\n",
       "      <th>0</th>\n",
       "      <td>528819.0</td>\n",
       "      <td>329778.0</td>\n",
       "    </tr>\n",
       "    <tr>\n",
       "      <th>1</th>\n",
       "      <td>1263689.0</td>\n",
       "      <td>504738.0</td>\n",
       "    </tr>\n",
       "    <tr>\n",
       "      <th>2</th>\n",
       "      <td>1172512.0</td>\n",
       "      <td>989454.0</td>\n",
       "    </tr>\n",
       "    <tr>\n",
       "      <th>3</th>\n",
       "      <td>1647341.0</td>\n",
       "      <td>1465183.0</td>\n",
       "    </tr>\n",
       "    <tr>\n",
       "      <th>4</th>\n",
       "      <td>528419.0</td>\n",
       "      <td>351158.0</td>\n",
       "    </tr>\n",
       "    <tr>\n",
       "      <th>5</th>\n",
       "      <td>505763.0</td>\n",
       "      <td>342215.0</td>\n",
       "    </tr>\n",
       "    <tr>\n",
       "      <th>6</th>\n",
       "      <td>437477.0</td>\n",
       "      <td>283875.0</td>\n",
       "    </tr>\n",
       "    <tr>\n",
       "      <th>7</th>\n",
       "      <td>452378.0</td>\n",
       "      <td>308403.0</td>\n",
       "    </tr>\n",
       "    <tr>\n",
       "      <th>8</th>\n",
       "      <td>764158.0</td>\n",
       "      <td>629594.0</td>\n",
       "    </tr>\n",
       "    <tr>\n",
       "      <th>9</th>\n",
       "      <td>1792376.0</td>\n",
       "      <td>1707832.0</td>\n",
       "    </tr>\n",
       "    <tr>\n",
       "      <th>10</th>\n",
       "      <td>608359.0</td>\n",
       "      <td>602569.0</td>\n",
       "    </tr>\n",
       "    <tr>\n",
       "      <th>11</th>\n",
       "      <td>736464.0</td>\n",
       "      <td>790142.0</td>\n",
       "    </tr>\n",
       "    <tr>\n",
       "      <th>12</th>\n",
       "      <td>1116448.0</td>\n",
       "      <td>500876.0</td>\n",
       "    </tr>\n",
       "    <tr>\n",
       "      <th>13</th>\n",
       "      <td>1062181.0</td>\n",
       "      <td>510291.0</td>\n",
       "    </tr>\n",
       "    <tr>\n",
       "      <th>14</th>\n",
       "      <td>1721589.0</td>\n",
       "      <td>1820474.0</td>\n",
       "    </tr>\n",
       "    <tr>\n",
       "      <th>15</th>\n",
       "      <td>810194.0</td>\n",
       "      <td>923390.0</td>\n",
       "    </tr>\n",
       "    <tr>\n",
       "      <th>16</th>\n",
       "      <td>538827.0</td>\n",
       "      <td>659898.0</td>\n",
       "    </tr>\n",
       "    <tr>\n",
       "      <th>17</th>\n",
       "      <td>1258479.0</td>\n",
       "      <td>1476420.0</td>\n",
       "    </tr>\n",
       "  </tbody>\n",
       "</table>\n",
       "</div>"
      ],
      "text/plain": [
       "           Q1         Q2\n",
       "0    528819.0   329778.0\n",
       "1   1263689.0   504738.0\n",
       "2   1172512.0   989454.0\n",
       "3   1647341.0  1465183.0\n",
       "4    528419.0   351158.0\n",
       "5    505763.0   342215.0\n",
       "6    437477.0   283875.0\n",
       "7    452378.0   308403.0\n",
       "8    764158.0   629594.0\n",
       "9   1792376.0  1707832.0\n",
       "10   608359.0   602569.0\n",
       "11   736464.0   790142.0\n",
       "12  1116448.0   500876.0\n",
       "13  1062181.0   510291.0\n",
       "14  1721589.0  1820474.0\n",
       "15   810194.0   923390.0\n",
       "16   538827.0   659898.0\n",
       "17  1258479.0  1476420.0"
      ]
     },
     "execution_count": 4,
     "metadata": {},
     "output_type": "execute_result"
    }
   ],
   "source": [
    "data = pd.read_csv('..//data//revenuedata.csv')\n",
    "data"
   ]
  },
  {
   "cell_type": "markdown",
   "metadata": {},
   "source": [
    "- ### **Comparamos las muestras:**"
   ]
  },
  {
   "cell_type": "code",
   "execution_count": 18,
   "metadata": {},
   "outputs": [
    {
     "name": "stdout",
     "output_type": "stream",
     "text": [
      "Estadistico=32.000, p=0.018\n",
      "Rechazamos H0: hay diferencias significativas entre las muestras\n"
     ]
    }
   ],
   "source": [
    "stat, p = wilcoxon(data.Q1, data.Q2, alternative='two-sided')\n",
    "print('Estadistico=%.3f, p=%.3f' % (stat, p))\n",
    "\n",
    "#Interpretación\n",
    "alfa = 0.05\n",
    "\n",
    "if alfa > 0.05:\n",
    "  print('No rechazamos H0: No hay diferencias significativas entre las muestras')\n",
    "else:\n",
    "  print('Rechazamos H0: hay diferencias significativas entre las muestras')"
   ]
  },
  {
   "cell_type": "markdown",
   "metadata": {},
   "source": [
    "- ### **Media de ingresos por trimestre:**"
   ]
  },
  {
   "cell_type": "code",
   "execution_count": 20,
   "metadata": {},
   "outputs": [
    {
     "name": "stdout",
     "output_type": "stream",
     "text": [
      "941415.1666666666 788682.7777777778\n"
     ]
    }
   ],
   "source": [
    "print(data.Q1.mean(), data.Q2.mean())"
   ]
  },
  {
   "cell_type": "markdown",
   "metadata": {},
   "source": [
    "Evidentemente observamos según la media de ingresos por trimestre, que fue mayor el ingresos del primero comparado con el segundo."
   ]
  },
  {
   "cell_type": "code",
   "execution_count": 21,
   "metadata": {},
   "outputs": [
    {
     "name": "stdout",
     "output_type": "stream",
     "text": [
      "Estadistico=139.000, p=0.009\n",
      "Rechazamos H0: hay diferencias significativas entre las muestras\n"
     ]
    }
   ],
   "source": [
    "stat, p = wilcoxon(data.Q1, data.Q2, alternative='greater')\n",
    "print('Estadistico=%.3f, p=%.3f' % (stat, p))\n",
    "\n",
    "#Interpretación\n",
    "alfa = 0.05\n",
    "\n",
    "if alfa > 0.05:\n",
    "  print('No rechazamos H0: No hay diferencias significativas entre las muestras')\n",
    "else:\n",
    "  print('Rechazamos H0: hay diferencias significativas entre las muestras')"
   ]
  },
  {
   "cell_type": "markdown",
   "metadata": {},
   "source": [
    "- ### **Conclusión:**\n",
    "Podemos concluir que lo ingresos disminuyen significativamente del primer trimestre al segundo trimestre."
   ]
  },
  {
   "cell_type": "markdown",
   "metadata": {},
   "source": [
    "# **4. Prueba Friedman**"
   ]
  },
  {
   "cell_type": "markdown",
   "metadata": {},
   "source": [
    "- Permite comparar tres o más muestras repetidas (recordemos que las muestras repetidas son cuando se miden caracteristicas o resultados sobre el mismo grupo de estudio).\n",
    "- Es el equivalente al one-way ANOVA para medidas repetidas\n",
    "- Es una extensión de rangos con signos del la prueba Wilcoxon\n",
    "- Se utiliza para vairable ordinales y/o cuando no se cumple la normalidad de los datos"
   ]
  },
  {
   "cell_type": "markdown",
   "metadata": {},
   "source": [
    "- ## **Ejemplo No. 1**"
   ]
  },
  {
   "cell_type": "markdown",
   "metadata": {},
   "source": [
    "- ### **Contexto:**\n",
    "Trabajaremos con un dataset que contiene información sobre la calificación de 10 jueces en la cata de seis tipos de vinos; la calificación esta comprendida entre 1 y 7, siendo 1 la peor calificación y 7 la mejor calificación.\n",
    "\n",
    "- ### **Objetivo:**\n",
    "Identificar en que grupos se tienen diferencias significativas según las calificaciones realizada por los jueces."
   ]
  },
  {
   "cell_type": "markdown",
   "metadata": {},
   "source": [
    "- ### **Importamos librerías:**"
   ]
  },
  {
   "cell_type": "code",
   "execution_count": 24,
   "metadata": {},
   "outputs": [],
   "source": [
    "import numpy as np #Proporciona funciones y herramientas para trabajar con matrices\n",
    "import pandas as pd #Permite manipular y analizar estructura de datos\n",
    "import matplotlib.pyplot as plt #Permite crear graficos y visualizaciones\n",
    "import seaborn as sns #Ofrece graficos y visualizaciones adicionales\n",
    "from scipy import stats #Proporciona herramientas para crear calculos cientificos y estadisticos\n",
    "from scipy.stats import wilcoxon # Permite realizar la prueba no paramétrica Wilcoxon\n",
    "from scipy.stats import friedmanchisquare # Permite realizar la prueba no paramétrica Friedman\n",
    "import warnings #Permite controlar advertencias\n",
    "warnings.filterwarnings (\"ignore\") #Ocultan las advertencias\n",
    "from itertools import combinations #Herramienta util para generar todas las combinaciones en un elemento\n"
   ]
  },
  {
   "cell_type": "markdown",
   "metadata": {},
   "source": [
    "- ### **Cargamos dataset:**"
   ]
  },
  {
   "cell_type": "code",
   "execution_count": 25,
   "metadata": {},
   "outputs": [
    {
     "data": {
      "text/html": [
       "<div>\n",
       "<style scoped>\n",
       "    .dataframe tbody tr th:only-of-type {\n",
       "        vertical-align: middle;\n",
       "    }\n",
       "\n",
       "    .dataframe tbody tr th {\n",
       "        vertical-align: top;\n",
       "    }\n",
       "\n",
       "    .dataframe thead th {\n",
       "        text-align: right;\n",
       "    }\n",
       "</style>\n",
       "<table border=\"1\" class=\"dataframe\">\n",
       "  <thead>\n",
       "    <tr style=\"text-align: right;\">\n",
       "      <th></th>\n",
       "      <th>Judge</th>\n",
       "      <th>pinecreek</th>\n",
       "      <th>saintjude</th>\n",
       "      <th>northnapa</th>\n",
       "      <th>sevenwinds</th>\n",
       "      <th>eternalvalley</th>\n",
       "    </tr>\n",
       "  </thead>\n",
       "  <tbody>\n",
       "    <tr>\n",
       "      <th>0</th>\n",
       "      <td>1.0</td>\n",
       "      <td>6.0</td>\n",
       "      <td>3.0</td>\n",
       "      <td>3.0</td>\n",
       "      <td>5.0</td>\n",
       "      <td>3.0</td>\n",
       "    </tr>\n",
       "    <tr>\n",
       "      <th>1</th>\n",
       "      <td>2.0</td>\n",
       "      <td>7.0</td>\n",
       "      <td>4.0</td>\n",
       "      <td>4.0</td>\n",
       "      <td>4.0</td>\n",
       "      <td>4.0</td>\n",
       "    </tr>\n",
       "    <tr>\n",
       "      <th>2</th>\n",
       "      <td>3.0</td>\n",
       "      <td>6.0</td>\n",
       "      <td>5.0</td>\n",
       "      <td>4.0</td>\n",
       "      <td>5.0</td>\n",
       "      <td>3.0</td>\n",
       "    </tr>\n",
       "    <tr>\n",
       "      <th>3</th>\n",
       "      <td>4.0</td>\n",
       "      <td>7.0</td>\n",
       "      <td>3.0</td>\n",
       "      <td>2.0</td>\n",
       "      <td>4.0</td>\n",
       "      <td>2.0</td>\n",
       "    </tr>\n",
       "    <tr>\n",
       "      <th>4</th>\n",
       "      <td>5.0</td>\n",
       "      <td>5.0</td>\n",
       "      <td>4.0</td>\n",
       "      <td>3.0</td>\n",
       "      <td>4.0</td>\n",
       "      <td>4.0</td>\n",
       "    </tr>\n",
       "    <tr>\n",
       "      <th>5</th>\n",
       "      <td>6.0</td>\n",
       "      <td>6.0</td>\n",
       "      <td>3.0</td>\n",
       "      <td>3.0</td>\n",
       "      <td>3.0</td>\n",
       "      <td>2.0</td>\n",
       "    </tr>\n",
       "    <tr>\n",
       "      <th>6</th>\n",
       "      <td>7.0</td>\n",
       "      <td>7.0</td>\n",
       "      <td>4.0</td>\n",
       "      <td>2.0</td>\n",
       "      <td>5.0</td>\n",
       "      <td>3.0</td>\n",
       "    </tr>\n",
       "    <tr>\n",
       "      <th>7</th>\n",
       "      <td>8.0</td>\n",
       "      <td>6.0</td>\n",
       "      <td>3.0</td>\n",
       "      <td>4.0</td>\n",
       "      <td>5.0</td>\n",
       "      <td>3.0</td>\n",
       "    </tr>\n",
       "    <tr>\n",
       "      <th>8</th>\n",
       "      <td>9.0</td>\n",
       "      <td>7.0</td>\n",
       "      <td>3.0</td>\n",
       "      <td>3.0</td>\n",
       "      <td>3.0</td>\n",
       "      <td>4.0</td>\n",
       "    </tr>\n",
       "    <tr>\n",
       "      <th>9</th>\n",
       "      <td>10.0</td>\n",
       "      <td>5.0</td>\n",
       "      <td>4.0</td>\n",
       "      <td>2.0</td>\n",
       "      <td>4.0</td>\n",
       "      <td>2.0</td>\n",
       "    </tr>\n",
       "  </tbody>\n",
       "</table>\n",
       "</div>"
      ],
      "text/plain": [
       "   Judge  pinecreek  saintjude  northnapa  sevenwinds  eternalvalley\n",
       "0    1.0        6.0        3.0        3.0         5.0            3.0\n",
       "1    2.0        7.0        4.0        4.0         4.0            4.0\n",
       "2    3.0        6.0        5.0        4.0         5.0            3.0\n",
       "3    4.0        7.0        3.0        2.0         4.0            2.0\n",
       "4    5.0        5.0        4.0        3.0         4.0            4.0\n",
       "5    6.0        6.0        3.0        3.0         3.0            2.0\n",
       "6    7.0        7.0        4.0        2.0         5.0            3.0\n",
       "7    8.0        6.0        3.0        4.0         5.0            3.0\n",
       "8    9.0        7.0        3.0        3.0         3.0            4.0\n",
       "9   10.0        5.0        4.0        2.0         4.0            2.0"
      ]
     },
     "execution_count": 25,
     "metadata": {},
     "output_type": "execute_result"
    }
   ],
   "source": [
    "data = pd.read_csv('../data//wine.csv')\n",
    "data"
   ]
  },
  {
   "cell_type": "markdown",
   "metadata": {},
   "source": [
    "- ### **Realizamos prueba Friedman:**"
   ]
  },
  {
   "cell_type": "code",
   "execution_count": 26,
   "metadata": {},
   "outputs": [
    {
     "name": "stdout",
     "output_type": "stream",
     "text": [
      "Estadistico = 29.893, p=0.000\n",
      "Rechazamos H0:  Hay diferencias significativas entre los grupos.\n"
     ]
    }
   ],
   "source": [
    "stat, p = friedmanchisquare(data.pinecreek, data.saintjude, data.northnapa, data.sevenwinds, data.eternalvalley) #Por defecto la alternative esta 'two-sided'\n",
    "print('Estadistico = %.3f, p=%.3f' % (stat, p))\n",
    "alfa = 0.05\n",
    "\n",
    "if p > alfa:\n",
    "  print('No rechazamos H0:  No hay diferencias significativas entre los grupos.')\n",
    "else:\n",
    "  print('Rechazamos H0:  Hay diferencias significativas entre los grupos.')"
   ]
  },
  {
   "cell_type": "markdown",
   "metadata": {},
   "source": [
    "- ### **Identificamos dónde estan las diferencias:**"
   ]
  },
  {
   "cell_type": "code",
   "execution_count": 27,
   "metadata": {},
   "outputs": [
    {
     "name": "stdout",
     "output_type": "stream",
     "text": [
      "El número de combinaciones de dos elementos en 5 grupos es: 10\n"
     ]
    }
   ],
   "source": [
    "#Identificamos la cantidad de grupos\n",
    "num_grupos = len(data.columns) - 1\n",
    "\n",
    "combinaciones = list(combinations(range(num_grupos), 2))\n",
    "num_combinaciones = len(combinaciones)\n",
    "\n",
    "print(f\"El número de combinaciones de dos elementos en {num_grupos} grupos es: {num_combinaciones}\")\n",
    "\n",
    "#Aplicamos la corrección de Bonferroni\n",
    "\n",
    "bonferroni = 0.05 / num_grupos\n",
    "\n",
    "#definimos una función que me devuelva el resultado de la prueba\n",
    "\n",
    "def testWilcoxon (x,y):\n",
    "  stat, p = wilcoxon (x, y, alternative='two-sided')\n",
    "  print('Estadistico = %.3f, p = %.3f' % (stat, p) )\n",
    "\n",
    "  alfa = 0.05\n",
    "\n",
    "  if p > alfa:\n",
    "    print ('No rechazamos H0: No hay diferencias significativas')\n",
    "  else:\n",
    "    print ('Rechazamos H0: Hay diferencias significativas')"
   ]
  },
  {
   "cell_type": "code",
   "execution_count": 28,
   "metadata": {},
   "outputs": [
    {
     "name": "stdout",
     "output_type": "stream",
     "text": [
      "('pinecreek', 'saintjude')\n",
      "('pinecreek', 'northnapa')\n",
      "('pinecreek', 'sevenwinds')\n",
      "('pinecreek', 'eternalvalley')\n",
      "('saintjude', 'northnapa')\n",
      "('saintjude', 'sevenwinds')\n",
      "('saintjude', 'eternalvalley')\n",
      "('northnapa', 'sevenwinds')\n",
      "('northnapa', 'eternalvalley')\n",
      "('sevenwinds', 'eternalvalley')\n"
     ]
    }
   ],
   "source": [
    "grupos = ['pinecreek', 'saintjude', 'northnapa', 'sevenwinds', 'eternalvalley']\n",
    "\n",
    "combinaciones = list(combinations(grupos, 2))\n",
    "\n",
    "for combinacion in combinaciones:\n",
    "  print(combinacion)\n"
   ]
  },
  {
   "cell_type": "code",
   "execution_count": 29,
   "metadata": {},
   "outputs": [
    {
     "name": "stdout",
     "output_type": "stream",
     "text": [
      "Estadistico = 0.000, p = 0.002\n",
      "Rechazamos H0: Hay diferencias significativas\n"
     ]
    }
   ],
   "source": [
    "testWilcoxon(data.pinecreek, data.saintjude)"
   ]
  },
  {
   "cell_type": "code",
   "execution_count": 30,
   "metadata": {},
   "outputs": [
    {
     "name": "stdout",
     "output_type": "stream",
     "text": [
      "Estadistico = 0.000, p = 0.002\n",
      "Rechazamos H0: Hay diferencias significativas\n"
     ]
    }
   ],
   "source": [
    "testWilcoxon(data.pinecreek, data.northnapa)"
   ]
  },
  {
   "cell_type": "code",
   "execution_count": 31,
   "metadata": {},
   "outputs": [
    {
     "name": "stdout",
     "output_type": "stream",
     "text": [
      "Estadistico = 0.000, p = 0.002\n",
      "Rechazamos H0: Hay diferencias significativas\n"
     ]
    }
   ],
   "source": [
    "testWilcoxon(data.pinecreek, data.sevenwinds)"
   ]
  },
  {
   "cell_type": "code",
   "execution_count": 32,
   "metadata": {},
   "outputs": [
    {
     "name": "stdout",
     "output_type": "stream",
     "text": [
      "Estadistico = 0.000, p = 0.002\n",
      "Rechazamos H0: Hay diferencias significativas\n"
     ]
    }
   ],
   "source": [
    "testWilcoxon(data.pinecreek, data.eternalvalley)"
   ]
  },
  {
   "cell_type": "code",
   "execution_count": 33,
   "metadata": {},
   "outputs": [
    {
     "name": "stdout",
     "output_type": "stream",
     "text": [
      "Estadistico = 2.500, p = 0.084\n",
      "No rechazamos H0: No hay diferencias significativas\n"
     ]
    }
   ],
   "source": [
    "testWilcoxon(data.saintjude, data.northnapa)"
   ]
  },
  {
   "cell_type": "code",
   "execution_count": 34,
   "metadata": {},
   "outputs": [
    {
     "name": "stdout",
     "output_type": "stream",
     "text": [
      "Estadistico = 0.000, p = 0.063\n",
      "No rechazamos H0: No hay diferencias significativas\n"
     ]
    }
   ],
   "source": [
    "testWilcoxon(data.saintjude, data.sevenwinds)"
   ]
  },
  {
   "cell_type": "code",
   "execution_count": 35,
   "metadata": {},
   "outputs": [
    {
     "name": "stdout",
     "output_type": "stream",
     "text": [
      "Estadistico = 2.500, p = 0.084\n",
      "No rechazamos H0: No hay diferencias significativas\n"
     ]
    }
   ],
   "source": [
    "testWilcoxon(data.saintjude, data.eternalvalley)"
   ]
  },
  {
   "cell_type": "code",
   "execution_count": 36,
   "metadata": {},
   "outputs": [
    {
     "name": "stdout",
     "output_type": "stream",
     "text": [
      "Estadistico = 0.000, p = 0.016\n",
      "Rechazamos H0: Hay diferencias significativas\n"
     ]
    }
   ],
   "source": [
    "testWilcoxon(data.northnapa, data.sevenwinds)"
   ]
  },
  {
   "cell_type": "code",
   "execution_count": 37,
   "metadata": {},
   "outputs": [
    {
     "name": "stdout",
     "output_type": "stream",
     "text": [
      "Estadistico = 2.500, p = 0.084\n",
      "No rechazamos H0: No hay diferencias significativas\n"
     ]
    }
   ],
   "source": [
    "testWilcoxon(data.saintjude, data.eternalvalley)"
   ]
  },
  {
   "cell_type": "code",
   "execution_count": 38,
   "metadata": {},
   "outputs": [
    {
     "name": "stdout",
     "output_type": "stream",
     "text": [
      "Estadistico = 1.500, p = 0.016\n",
      "Rechazamos H0: Hay diferencias significativas\n"
     ]
    }
   ],
   "source": [
    "testWilcoxon(data.sevenwinds, data.eternalvalley)"
   ]
  },
  {
   "cell_type": "markdown",
   "metadata": {},
   "source": [
    "- ### **Conclusión:**\n",
    "Hay diferencias significativas siempre que comparamos la calificación del vino pinecreek con los demás tipos de vinos, ya que obtiene calificaciones significativamente diferentes."
   ]
  },
  {
   "cell_type": "markdown",
   "metadata": {},
   "source": [
    "# **5. Correlación de Spearman**\n",
    "\n",
    "- También se le conoce como coeficiente de correlación de rangos\n",
    "-  Equivalente no paramétrico al coeficiente de correlación de Pearson\n",
    "- Permite variables de tipo intervalo o ratio, pero también ordinales\n",
    "- Toma valores entre -1 y 1.\n",
    "- A diferencia de la correlación de Pearson que haya la relación lineales entre dos variables mientras que la correlación de rango de Spearman el valor que obtenemos describe el grado en que dos variables muestran una relación monótona (no son relaciones necesariamente lineales). No monótona cuando para el eje x hay más de un mismo punto del eje y.\n",
    "- Mide que tan fuerte es la relación monótona entre las dos variables.\n",
    "- No es tan sensible a los valores atípicos como o es la de Pearson\n"
   ]
  },
  {
   "cell_type": "markdown",
   "metadata": {},
   "source": [
    "- ## **Ejemplo No. 1**"
   ]
  },
  {
   "cell_type": "markdown",
   "metadata": {},
   "source": [
    "- ### **Contexto:**\n",
    "En este ejemplo calcularemos el coeficiente de correlación de Spearman, con unos datos que contienen las puntuaciones o notas obtenidas en unas pruebas de aptitud que se le realizan a unos empleados 6 meses después de su contratación. Donde la variable score será la nota del examen y Rating la nota dada por el supervisor donde se calificará de 1 a 5 siendo 1 la nota más baja y 5 la más alta.\n",
    "\n",
    "\n",
    "- ### **Objetivo:**\n",
    "Determinar si hay una relación entre las notas obtenidas en el examen y las calificaciones dadas por los supervisores."
   ]
  },
  {
   "cell_type": "markdown",
   "metadata": {},
   "source": [
    "- ### **Importamos librerías:**"
   ]
  },
  {
   "cell_type": "code",
   "execution_count": 40,
   "metadata": {},
   "outputs": [],
   "source": [
    "import pandas as pd #Permite manipular y analizar estructura de datos\n",
    "from scipy import stats #Proporciona herramientas para crear calculos cientificos y estadisticos"
   ]
  },
  {
   "cell_type": "markdown",
   "metadata": {},
   "source": [
    "- ### **Cargamos dataset:**"
   ]
  },
  {
   "cell_type": "code",
   "execution_count": 41,
   "metadata": {},
   "outputs": [
    {
     "data": {
      "text/html": [
       "<div>\n",
       "<style scoped>\n",
       "    .dataframe tbody tr th:only-of-type {\n",
       "        vertical-align: middle;\n",
       "    }\n",
       "\n",
       "    .dataframe tbody tr th {\n",
       "        vertical-align: top;\n",
       "    }\n",
       "\n",
       "    .dataframe thead th {\n",
       "        text-align: right;\n",
       "    }\n",
       "</style>\n",
       "<table border=\"1\" class=\"dataframe\">\n",
       "  <thead>\n",
       "    <tr style=\"text-align: right;\">\n",
       "      <th></th>\n",
       "      <th>Score</th>\n",
       "      <th>Rating</th>\n",
       "    </tr>\n",
       "  </thead>\n",
       "  <tbody>\n",
       "    <tr>\n",
       "      <th>0</th>\n",
       "      <td>74.0</td>\n",
       "      <td>1.0</td>\n",
       "    </tr>\n",
       "    <tr>\n",
       "      <th>1</th>\n",
       "      <td>75.0</td>\n",
       "      <td>3.0</td>\n",
       "    </tr>\n",
       "    <tr>\n",
       "      <th>2</th>\n",
       "      <td>78.0</td>\n",
       "      <td>2.0</td>\n",
       "    </tr>\n",
       "    <tr>\n",
       "      <th>3</th>\n",
       "      <td>79.0</td>\n",
       "      <td>3.0</td>\n",
       "    </tr>\n",
       "    <tr>\n",
       "      <th>4</th>\n",
       "      <td>73.0</td>\n",
       "      <td>1.0</td>\n",
       "    </tr>\n",
       "    <tr>\n",
       "      <th>5</th>\n",
       "      <td>75.0</td>\n",
       "      <td>2.0</td>\n",
       "    </tr>\n",
       "    <tr>\n",
       "      <th>6</th>\n",
       "      <td>72.0</td>\n",
       "      <td>3.0</td>\n",
       "    </tr>\n",
       "    <tr>\n",
       "      <th>7</th>\n",
       "      <td>81.0</td>\n",
       "      <td>3.0</td>\n",
       "    </tr>\n",
       "    <tr>\n",
       "      <th>8</th>\n",
       "      <td>73.0</td>\n",
       "      <td>4.0</td>\n",
       "    </tr>\n",
       "    <tr>\n",
       "      <th>9</th>\n",
       "      <td>84.0</td>\n",
       "      <td>4.0</td>\n",
       "    </tr>\n",
       "    <tr>\n",
       "      <th>10</th>\n",
       "      <td>71.0</td>\n",
       "      <td>1.0</td>\n",
       "    </tr>\n",
       "    <tr>\n",
       "      <th>11</th>\n",
       "      <td>71.0</td>\n",
       "      <td>2.0</td>\n",
       "    </tr>\n",
       "    <tr>\n",
       "      <th>12</th>\n",
       "      <td>77.0</td>\n",
       "      <td>4.0</td>\n",
       "    </tr>\n",
       "    <tr>\n",
       "      <th>13</th>\n",
       "      <td>90.0</td>\n",
       "      <td>5.0</td>\n",
       "    </tr>\n",
       "    <tr>\n",
       "      <th>14</th>\n",
       "      <td>78.0</td>\n",
       "      <td>3.0</td>\n",
       "    </tr>\n",
       "    <tr>\n",
       "      <th>15</th>\n",
       "      <td>77.0</td>\n",
       "      <td>3.0</td>\n",
       "    </tr>\n",
       "    <tr>\n",
       "      <th>16</th>\n",
       "      <td>84.0</td>\n",
       "      <td>4.0</td>\n",
       "    </tr>\n",
       "    <tr>\n",
       "      <th>17</th>\n",
       "      <td>72.0</td>\n",
       "      <td>2.0</td>\n",
       "    </tr>\n",
       "    <tr>\n",
       "      <th>18</th>\n",
       "      <td>75.0</td>\n",
       "      <td>1.0</td>\n",
       "    </tr>\n",
       "    <tr>\n",
       "      <th>19</th>\n",
       "      <td>95.0</td>\n",
       "      <td>5.0</td>\n",
       "    </tr>\n",
       "    <tr>\n",
       "      <th>20</th>\n",
       "      <td>74.0</td>\n",
       "      <td>2.0</td>\n",
       "    </tr>\n",
       "    <tr>\n",
       "      <th>21</th>\n",
       "      <td>68.0</td>\n",
       "      <td>1.0</td>\n",
       "    </tr>\n",
       "    <tr>\n",
       "      <th>22</th>\n",
       "      <td>69.0</td>\n",
       "      <td>1.0</td>\n",
       "    </tr>\n",
       "    <tr>\n",
       "      <th>23</th>\n",
       "      <td>73.0</td>\n",
       "      <td>3.0</td>\n",
       "    </tr>\n",
       "    <tr>\n",
       "      <th>24</th>\n",
       "      <td>97.0</td>\n",
       "      <td>5.0</td>\n",
       "    </tr>\n",
       "    <tr>\n",
       "      <th>25</th>\n",
       "      <td>73.0</td>\n",
       "      <td>2.0</td>\n",
       "    </tr>\n",
       "    <tr>\n",
       "      <th>26</th>\n",
       "      <td>71.0</td>\n",
       "      <td>3.0</td>\n",
       "    </tr>\n",
       "    <tr>\n",
       "      <th>27</th>\n",
       "      <td>94.0</td>\n",
       "      <td>4.0</td>\n",
       "    </tr>\n",
       "    <tr>\n",
       "      <th>28</th>\n",
       "      <td>82.0</td>\n",
       "      <td>4.0</td>\n",
       "    </tr>\n",
       "    <tr>\n",
       "      <th>29</th>\n",
       "      <td>87.0</td>\n",
       "      <td>5.0</td>\n",
       "    </tr>\n",
       "    <tr>\n",
       "      <th>30</th>\n",
       "      <td>91.0</td>\n",
       "      <td>4.0</td>\n",
       "    </tr>\n",
       "    <tr>\n",
       "      <th>31</th>\n",
       "      <td>69.0</td>\n",
       "      <td>1.0</td>\n",
       "    </tr>\n",
       "    <tr>\n",
       "      <th>32</th>\n",
       "      <td>74.0</td>\n",
       "      <td>2.0</td>\n",
       "    </tr>\n",
       "    <tr>\n",
       "      <th>33</th>\n",
       "      <td>68.0</td>\n",
       "      <td>2.0</td>\n",
       "    </tr>\n",
       "    <tr>\n",
       "      <th>34</th>\n",
       "      <td>75.0</td>\n",
       "      <td>2.0</td>\n",
       "    </tr>\n",
       "    <tr>\n",
       "      <th>35</th>\n",
       "      <td>71.0</td>\n",
       "      <td>3.0</td>\n",
       "    </tr>\n",
       "    <tr>\n",
       "      <th>36</th>\n",
       "      <td>80.0</td>\n",
       "      <td>4.0</td>\n",
       "    </tr>\n",
       "    <tr>\n",
       "      <th>37</th>\n",
       "      <td>88.0</td>\n",
       "      <td>4.0</td>\n",
       "    </tr>\n",
       "    <tr>\n",
       "      <th>38</th>\n",
       "      <td>70.0</td>\n",
       "      <td>2.0</td>\n",
       "    </tr>\n",
       "  </tbody>\n",
       "</table>\n",
       "</div>"
      ],
      "text/plain": [
       "    Score  Rating\n",
       "0    74.0     1.0\n",
       "1    75.0     3.0\n",
       "2    78.0     2.0\n",
       "3    79.0     3.0\n",
       "4    73.0     1.0\n",
       "5    75.0     2.0\n",
       "6    72.0     3.0\n",
       "7    81.0     3.0\n",
       "8    73.0     4.0\n",
       "9    84.0     4.0\n",
       "10   71.0     1.0\n",
       "11   71.0     2.0\n",
       "12   77.0     4.0\n",
       "13   90.0     5.0\n",
       "14   78.0     3.0\n",
       "15   77.0     3.0\n",
       "16   84.0     4.0\n",
       "17   72.0     2.0\n",
       "18   75.0     1.0\n",
       "19   95.0     5.0\n",
       "20   74.0     2.0\n",
       "21   68.0     1.0\n",
       "22   69.0     1.0\n",
       "23   73.0     3.0\n",
       "24   97.0     5.0\n",
       "25   73.0     2.0\n",
       "26   71.0     3.0\n",
       "27   94.0     4.0\n",
       "28   82.0     4.0\n",
       "29   87.0     5.0\n",
       "30   91.0     4.0\n",
       "31   69.0     1.0\n",
       "32   74.0     2.0\n",
       "33   68.0     2.0\n",
       "34   75.0     2.0\n",
       "35   71.0     3.0\n",
       "36   80.0     4.0\n",
       "37   88.0     4.0\n",
       "38   70.0     2.0"
      ]
     },
     "execution_count": 41,
     "metadata": {},
     "output_type": "execute_result"
    }
   ],
   "source": [
    "data = pd.read_csv('..//data/employeeratings.csv')\n",
    "data"
   ]
  },
  {
   "cell_type": "markdown",
   "metadata": {},
   "source": [
    "Teniendo en cuenta que una de las dos variables tiene valores ordinales se debe aplicar la prueba de correlación de Spearman."
   ]
  },
  {
   "cell_type": "markdown",
   "metadata": {},
   "source": [
    "- ### **Calculamos coeficiente de correlación:**\n"
   ]
  },
  {
   "cell_type": "code",
   "execution_count": 42,
   "metadata": {},
   "outputs": [
    {
     "name": "stdout",
     "output_type": "stream",
     "text": [
      "Correlación = 0.763, p = 0.000\n",
      "Rechazamos H0: Correlación significativa\n"
     ]
    }
   ],
   "source": [
    "corr, p = stats.spearmanr(data.Score, data.Rating)\n",
    "print('Correlación = %.3f, p = %.3f' % (corr, p))\n",
    "\n",
    "alfa = 0.05\n",
    "\n",
    "if p > alfa:\n",
    "  print('No rechazamos H0: Correlación no significativa')\n",
    "else:\n",
    "  print('Rechazamos H0: Correlación significativa')"
   ]
  },
  {
   "cell_type": "markdown",
   "metadata": {},
   "source": [
    "### **Conclución:**\n",
    "Con el resultado de correlación fuerte podemos concluir que las calificaciones más altas en las pruebas de aptitud se asocian con las calificaciones más altas de los supervisores. Esto quiere decir que generalmente los colaboradores que obtienen mayor nota en el examen de aptitud tienen una calificación más alta por sus supervisores."
   ]
  },
  {
   "cell_type": "markdown",
   "metadata": {},
   "source": [
    "- ## **Ejemplo No. 2**"
   ]
  },
  {
   "cell_type": "markdown",
   "metadata": {},
   "source": [
    "- ### **Contexto:**\n",
    "El conjunto de datos a trabajar contiene información sobre la densidad en la presencia de escarabajos y las poblaciones de pinos un bosque. La variable pine:population contiene las cantidades de pino durante un año en un bosque especifico, es decir cada fila es un año diferente y la variable beetle_density es la densidad de un escarabajo en específico que esta presente en el bosque.\n",
    "\n",
    "- ### **Objetivo:**\n",
    "Determinar si realmente los escarabajos estan siendo beneficiosos para la población de pinos, debido a que se sospecha que si pero queremos respaldarlo estadisticamente."
   ]
  },
  {
   "cell_type": "markdown",
   "metadata": {},
   "source": [
    "- ### **Importamos librerías:**"
   ]
  },
  {
   "cell_type": "code",
   "execution_count": 43,
   "metadata": {},
   "outputs": [],
   "source": [
    "import pandas as pd #Permite manipular y analizar estructura de datos\n",
    "import matplotlib.pyplot as plt #Permite crear graficos y visualizaciones\n",
    "import seaborn as sns #Ofrece graficos y visualizaciones adicionales\n",
    "from scipy import stats #Proporciona herramientas para crear calculos cientificos y estadisticos\n",
    "from sklearn.linear_model import LinearRegression #para implementar una regresión lineal\n",
    "from statsmodels.stats.diagnostic import normal_ad #Permite realizar el test de normalidad Anderson Darling\n",
    "from scipy.stats import shapiro #Permite realizar el test de normalidad Shapiro Wilks\n",
    "import statsmodels.formula.api as smf #permite especificar modelos estadísticos de una manera más legible y concisa\n",
    "import statsmodels.api as sm #se utiliza para realizar análisis estadísticos y modelado, incluyendo regresión, series temporales, análisis de supervivencia, análisis de varianza y más."
   ]
  },
  {
   "cell_type": "markdown",
   "metadata": {},
   "source": [
    "- ### **Cargamos dataset:**"
   ]
  },
  {
   "cell_type": "code",
   "execution_count": 44,
   "metadata": {},
   "outputs": [
    {
     "data": {
      "text/html": [
       "<div>\n",
       "<style scoped>\n",
       "    .dataframe tbody tr th:only-of-type {\n",
       "        vertical-align: middle;\n",
       "    }\n",
       "\n",
       "    .dataframe tbody tr th {\n",
       "        vertical-align: top;\n",
       "    }\n",
       "\n",
       "    .dataframe thead th {\n",
       "        text-align: right;\n",
       "    }\n",
       "</style>\n",
       "<table border=\"1\" class=\"dataframe\">\n",
       "  <thead>\n",
       "    <tr style=\"text-align: right;\">\n",
       "      <th></th>\n",
       "      <th>pine_population</th>\n",
       "      <th>beetle_density</th>\n",
       "    </tr>\n",
       "  </thead>\n",
       "  <tbody>\n",
       "    <tr>\n",
       "      <th>0</th>\n",
       "      <td>896.106591</td>\n",
       "      <td>0.090259</td>\n",
       "    </tr>\n",
       "    <tr>\n",
       "      <th>1</th>\n",
       "      <td>884.237630</td>\n",
       "      <td>0.223759</td>\n",
       "    </tr>\n",
       "    <tr>\n",
       "      <th>2</th>\n",
       "      <td>830.827303</td>\n",
       "      <td>0.311749</td>\n",
       "    </tr>\n",
       "    <tr>\n",
       "      <th>3</th>\n",
       "      <td>860.499707</td>\n",
       "      <td>0.796264</td>\n",
       "    </tr>\n",
       "    <tr>\n",
       "      <th>4</th>\n",
       "      <td>961.385880</td>\n",
       "      <td>0.543835</td>\n",
       "    </tr>\n",
       "    <tr>\n",
       "      <th>5</th>\n",
       "      <td>830.827303</td>\n",
       "      <td>0.531847</td>\n",
       "    </tr>\n",
       "    <tr>\n",
       "      <th>6</th>\n",
       "      <td>842.696265</td>\n",
       "      <td>0.497943</td>\n",
       "    </tr>\n",
       "    <tr>\n",
       "      <th>7</th>\n",
       "      <td>991.058283</td>\n",
       "      <td>0.770030</td>\n",
       "    </tr>\n",
       "    <tr>\n",
       "      <th>8</th>\n",
       "      <td>973.254841</td>\n",
       "      <td>0.627231</td>\n",
       "    </tr>\n",
       "    <tr>\n",
       "      <th>9</th>\n",
       "      <td>842.696265</td>\n",
       "      <td>0.300029</td>\n",
       "    </tr>\n",
       "    <tr>\n",
       "      <th>10</th>\n",
       "      <td>866.434188</td>\n",
       "      <td>0.440603</td>\n",
       "    </tr>\n",
       "    <tr>\n",
       "      <th>11</th>\n",
       "      <td>854.565226</td>\n",
       "      <td>0.361283</td>\n",
       "    </tr>\n",
       "    <tr>\n",
       "      <th>12</th>\n",
       "      <td>866.434188</td>\n",
       "      <td>0.484615</td>\n",
       "    </tr>\n",
       "    <tr>\n",
       "      <th>13</th>\n",
       "      <td>913.910034</td>\n",
       "      <td>0.612532</td>\n",
       "    </tr>\n",
       "    <tr>\n",
       "      <th>14</th>\n",
       "      <td>836.761784</td>\n",
       "      <td>0.040595</td>\n",
       "    </tr>\n",
       "    <tr>\n",
       "      <th>15</th>\n",
       "      <td>890.172111</td>\n",
       "      <td>0.923830</td>\n",
       "    </tr>\n",
       "    <tr>\n",
       "      <th>16</th>\n",
       "      <td>836.761784</td>\n",
       "      <td>0.553581</td>\n",
       "    </tr>\n",
       "    <tr>\n",
       "      <th>17</th>\n",
       "      <td>842.696265</td>\n",
       "      <td>0.738422</td>\n",
       "    </tr>\n",
       "    <tr>\n",
       "      <th>18</th>\n",
       "      <td>985.123803</td>\n",
       "      <td>0.818980</td>\n",
       "    </tr>\n",
       "    <tr>\n",
       "      <th>19</th>\n",
       "      <td>866.434188</td>\n",
       "      <td>0.012553</td>\n",
       "    </tr>\n",
       "    <tr>\n",
       "      <th>20</th>\n",
       "      <td>848.630745</td>\n",
       "      <td>0.698759</td>\n",
       "    </tr>\n",
       "    <tr>\n",
       "      <th>21</th>\n",
       "      <td>872.368669</td>\n",
       "      <td>0.355977</td>\n",
       "    </tr>\n",
       "    <tr>\n",
       "      <th>22</th>\n",
       "      <td>830.827303</td>\n",
       "      <td>0.134201</td>\n",
       "    </tr>\n",
       "    <tr>\n",
       "      <th>23</th>\n",
       "      <td>872.368669</td>\n",
       "      <td>0.931867</td>\n",
       "    </tr>\n",
       "    <tr>\n",
       "      <th>24</th>\n",
       "      <td>991.058283</td>\n",
       "      <td>0.926014</td>\n",
       "    </tr>\n",
       "    <tr>\n",
       "      <th>25</th>\n",
       "      <td>860.499707</td>\n",
       "      <td>0.856938</td>\n",
       "    </tr>\n",
       "    <tr>\n",
       "      <th>26</th>\n",
       "      <td>860.499707</td>\n",
       "      <td>0.682984</td>\n",
       "    </tr>\n",
       "    <tr>\n",
       "      <th>27</th>\n",
       "      <td>925.778995</td>\n",
       "      <td>0.408319</td>\n",
       "    </tr>\n",
       "    <tr>\n",
       "      <th>28</th>\n",
       "      <td>872.368669</td>\n",
       "      <td>0.203117</td>\n",
       "    </tr>\n",
       "    <tr>\n",
       "      <th>29</th>\n",
       "      <td>925.778995</td>\n",
       "      <td>0.444512</td>\n",
       "    </tr>\n",
       "    <tr>\n",
       "      <th>30</th>\n",
       "      <td>842.696265</td>\n",
       "      <td>0.380485</td>\n",
       "    </tr>\n",
       "    <tr>\n",
       "      <th>31</th>\n",
       "      <td>866.434188</td>\n",
       "      <td>0.164184</td>\n",
       "    </tr>\n",
       "    <tr>\n",
       "      <th>32</th>\n",
       "      <td>854.565226</td>\n",
       "      <td>0.458087</td>\n",
       "    </tr>\n",
       "    <tr>\n",
       "      <th>33</th>\n",
       "      <td>854.565226</td>\n",
       "      <td>0.950473</td>\n",
       "    </tr>\n",
       "    <tr>\n",
       "      <th>34</th>\n",
       "      <td>884.237630</td>\n",
       "      <td>0.857240</td>\n",
       "    </tr>\n",
       "    <tr>\n",
       "      <th>35</th>\n",
       "      <td>854.565226</td>\n",
       "      <td>0.069779</td>\n",
       "    </tr>\n",
       "    <tr>\n",
       "      <th>36</th>\n",
       "      <td>884.237630</td>\n",
       "      <td>0.815376</td>\n",
       "    </tr>\n",
       "    <tr>\n",
       "      <th>37</th>\n",
       "      <td>836.761784</td>\n",
       "      <td>0.005287</td>\n",
       "    </tr>\n",
       "    <tr>\n",
       "      <th>38</th>\n",
       "      <td>836.761784</td>\n",
       "      <td>0.007665</td>\n",
       "    </tr>\n",
       "    <tr>\n",
       "      <th>39</th>\n",
       "      <td>848.630745</td>\n",
       "      <td>0.801200</td>\n",
       "    </tr>\n",
       "  </tbody>\n",
       "</table>\n",
       "</div>"
      ],
      "text/plain": [
       "    pine_population  beetle_density\n",
       "0        896.106591        0.090259\n",
       "1        884.237630        0.223759\n",
       "2        830.827303        0.311749\n",
       "3        860.499707        0.796264\n",
       "4        961.385880        0.543835\n",
       "5        830.827303        0.531847\n",
       "6        842.696265        0.497943\n",
       "7        991.058283        0.770030\n",
       "8        973.254841        0.627231\n",
       "9        842.696265        0.300029\n",
       "10       866.434188        0.440603\n",
       "11       854.565226        0.361283\n",
       "12       866.434188        0.484615\n",
       "13       913.910034        0.612532\n",
       "14       836.761784        0.040595\n",
       "15       890.172111        0.923830\n",
       "16       836.761784        0.553581\n",
       "17       842.696265        0.738422\n",
       "18       985.123803        0.818980\n",
       "19       866.434188        0.012553\n",
       "20       848.630745        0.698759\n",
       "21       872.368669        0.355977\n",
       "22       830.827303        0.134201\n",
       "23       872.368669        0.931867\n",
       "24       991.058283        0.926014\n",
       "25       860.499707        0.856938\n",
       "26       860.499707        0.682984\n",
       "27       925.778995        0.408319\n",
       "28       872.368669        0.203117\n",
       "29       925.778995        0.444512\n",
       "30       842.696265        0.380485\n",
       "31       866.434188        0.164184\n",
       "32       854.565226        0.458087\n",
       "33       854.565226        0.950473\n",
       "34       884.237630        0.857240\n",
       "35       854.565226        0.069779\n",
       "36       884.237630        0.815376\n",
       "37       836.761784        0.005287\n",
       "38       836.761784        0.007665\n",
       "39       848.630745        0.801200"
      ]
     },
     "execution_count": 44,
     "metadata": {},
     "output_type": "execute_result"
    }
   ],
   "source": [
    "data = pd.read_csv('..//data/pinetree.csv')\n",
    "data"
   ]
  },
  {
   "cell_type": "markdown",
   "metadata": {},
   "source": [
    "- ### **Prueba de normalidad en los datos:**\n",
    "Debido a que las variables son de tipo ratio, debemos realizar una prueba de normalidad de los datos; si se cumple el supuesto de normalidad se aplicaran pruebas paramétricas como el coeficiente de Pearson de lo contrario se deben aplicar pruebas no parámetricas (Coeficiente de Spearman)."
   ]
  },
  {
   "cell_type": "code",
   "execution_count": 45,
   "metadata": {},
   "outputs": [
    {
     "name": "stdout",
     "output_type": "stream",
     "text": [
      "['__class__', '__delattr__', '__dict__', '__dir__', '__doc__', '__eq__', '__format__', '__ge__', '__getattribute__', '__gt__', '__hash__', '__init__', '__init_subclass__', '__le__', '__lt__', '__module__', '__ne__', '__new__', '__reduce__', '__reduce_ex__', '__repr__', '__setattr__', '__sizeof__', '__str__', '__subclasshook__', '__weakref__', '_check_kwargs', '_data_attr', '_df_model', '_df_resid', '_fit_collinear', '_fit_ridge', '_fit_zeros', '_formula_max_endog', '_get_init_kwds', '_handle_data', '_init_keys', '_kwargs_allowed', '_setup_score_hess', '_sqrt_lasso', 'data', 'df_model', 'df_resid', 'endog', 'endog_names', 'exog', 'exog_names', 'fit', 'fit_regularized', 'formula', 'from_formula', 'get_distribution', 'hessian', 'hessian_factor', 'information', 'initialize', 'k_constant', 'loglike', 'nobs', 'pinv_wexog', 'predict', 'rank', 'score', 'weights', 'wendog', 'wexog', 'whiten']\n"
     ]
    }
   ],
   "source": [
    "regresion = smf.ols('pine_population ~ beetle_density', data=data) #Metodo de regresión lineal\n",
    "print(dir(regresion))"
   ]
  },
  {
   "cell_type": "code",
   "execution_count": 46,
   "metadata": {},
   "outputs": [],
   "source": [
    "res = regresion.fit() #ajuste al modelo"
   ]
  },
  {
   "cell_type": "code",
   "execution_count": 47,
   "metadata": {},
   "outputs": [
    {
     "data": {
      "text/plain": [
       "<function matplotlib.pyplot.show(close=None, block=None)>"
      ]
     },
     "execution_count": 47,
     "metadata": {},
     "output_type": "execute_result"
    },
    {
     "data": {
      "image/png": "[encoded data removed]",
      "text/plain": [
       "<Figure size 640x480 with 1 Axes>"
      ]
     },
     "metadata": {},
     "output_type": "display_data"
    }
   ],
   "source": [
    "plt.scatter(data.beetle_density, data.pine_population)\n",
    "plt.plot(data.beetle_density, res.fittedvalues, color = 'red')\n",
    "plt.show"
   ]
  },
  {
   "cell_type": "code",
   "execution_count": 48,
   "metadata": {},
   "outputs": [
    {
     "data": {
      "image/png": "[encoded data removed]",
      "text/plain": [
       "<Figure size 640x480 with 1 Axes>"
      ]
     },
     "execution_count": 48,
     "metadata": {},
     "output_type": "execute_result"
    },
    {
     "data": {
      "image/png": "[encoded data removed]",
      "text/plain": [
       "<Figure size 640x480 with 1 Axes>"
      ]
     },
     "metadata": {},
     "output_type": "display_data"
    }
   ],
   "source": [
    "sm.qqplot(res.resid) #Verificamos si la distribución de los residuos sigue una linea recta, para comprobar si tiene una distribución normal"
   ]
  },
  {
   "cell_type": "code",
   "execution_count": 49,
   "metadata": {},
   "outputs": [
    {
     "name": "stdout",
     "output_type": "stream",
     "text": [
      "Supocisión: Los terminos de error tienen distribución normal\n",
      "\n",
      "Utilizamos el test Anderson Darling para comprobar distribución normal\n",
      "p_valor del test por debajo del 0.05 generalmente significa que no hay normalidad:  7.951116410427978e-05\n",
      "Los residuos no tienen una distribución normal\n",
      "\n",
      "Utilizamos el test Shapiro Wilks para comprobar distribución normal\n",
      "p_valor del test por debajo del 0.05 generalmente significa que no hay normalidad:  0.00022803871252108365\n",
      "Los residuos no tienen una distribución normal\n",
      "\n"
     ]
    },
    {
     "data": {
      "image/png": "[encoded data removed]",
      "text/plain": [
       "<Figure size 1200x600 with 1 Axes>"
      ]
     },
     "metadata": {},
     "output_type": "display_data"
    },
    {
     "name": "stdout",
     "output_type": "stream",
     "text": [
      "\n",
      "Suposición incorrecta\n",
      "\n",
      "Los intervalos de confianza probablemente se verán afectados\n",
      "Intente realizar transformaciones no lineales en variables\n"
     ]
    }
   ],
   "source": [
    "shapiro,\n",
    "#Comprobamos si estadisticamente los datos tienen uns distribución normal\n",
    "\n",
    "print('Supocisión: Los terminos de error tienen distribución normal' '\\n' )\n",
    "\n",
    "significancia = 0.05\n",
    "\n",
    "print('Utilizamos el test Anderson Darling para comprobar distribución normal')\n",
    "\n",
    "#Ingresamos los residuos al test\n",
    "p_valor = normal_ad(res.resid)[1]\n",
    "print('p_valor del test por debajo del 0.05 generalmente significa que no hay normalidad: ', p_valor)\n",
    "\n",
    "#Reportando la normalidad de los residuos\n",
    "if p_valor < significancia:\n",
    "  print('Los residuos no tienen una distribución normal' '\\n')\n",
    "else:\n",
    "  print('Los residuos siguen una distribución normal''\\n')\n",
    "\n",
    "print('Utilizamos el test Shapiro Wilks para comprobar distribución normal')\n",
    "\n",
    "shapiro_test = shapiro(res.resid)\n",
    "estadistico_shapiro_test = shapiro_test[0]\n",
    "pvalor_shapiro_test = shapiro_test[1]\n",
    "print('p_valor del test por debajo del 0.05 generalmente significa que no hay normalidad: ', pvalor_shapiro_test)\n",
    "\n",
    "#Reportando la normalidad de los residuos\n",
    "if pvalor_shapiro_test < significancia:\n",
    "  print('Los residuos no tienen una distribución normal' '\\n')\n",
    "else:\n",
    "  print('Los residuos siguen una distribución normal''\\n')\n",
    "\n",
    "#graficamos la distribución de los residuos\n",
    "plt.subplots(figsize = (12,6))\n",
    "plt.title('Distribución de los residuos')\n",
    "sns.distplot(res.resid)\n",
    "plt.show()\n",
    "\n",
    "print()\n",
    "\n",
    "if p_valor > significancia:\n",
    "  print('Suposición correcta')\n",
    "else:\n",
    "  print('Suposición incorrecta')\n",
    "  print()\n",
    "  print('Los intervalos de confianza probablemente se verán afectados')\n",
    "  print('Intente realizar transformaciones no lineales en variables')\n"
   ]
  },
  {
   "cell_type": "markdown",
   "metadata": {},
   "source": [
    "- ### **Calculamos coeficiente de correlación:**\n",
    "Teniendo en cuenta que en el test de distribución de los datos no se evidencio normalidad, por lo tanto utilizaremos un coeficiente de correlación no paramétrico."
   ]
  },
  {
   "cell_type": "code",
   "execution_count": 50,
   "metadata": {},
   "outputs": [
    {
     "name": "stdout",
     "output_type": "stream",
     "text": [
      "Correlación = 0.367, p = 0.020\n",
      "Rechazamos H0: correlación significativa\n"
     ]
    }
   ],
   "source": [
    "corr, p = stats.spearmanr(data.pine_population, data.beetle_density)\n",
    "\n",
    "print('Correlación = %.3f, p = %.3f' % (corr, p))\n",
    "\n",
    "#Interpretación\n",
    "\n",
    "alfa = 0.05\n",
    "\n",
    "if p > alfa:\n",
    "  print('No rechazamos H0: correlación no significativa')\n",
    "else:\n",
    "  print('Rechazamos H0: correlación significativa')"
   ]
  },
  {
   "cell_type": "markdown",
   "metadata": {},
   "source": [
    "### **Conclución:**\n",
    "De acuerdo al resultado podemos concluir que la densidad de escarabajos en este bosque esta correlacionada de manera positiva con la cantidad de pinos. Es decir que los escarabajos tienen un efecto beneficioso para la población de pinos."
   ]
  }
 ],
 "metadata": {
  "kernelspec": {
   "display_name": "Python 3",
   "language": "python",
   "name": "python3"
  },
  "language_info": {
   "codemirror_mode": {
    "name": "ipython",
    "version": 3
   },
   "file_extension": ".py",
   "mimetype": "text/x-python",
   "name": "python",
   "nbconvert_exporter": "python",
   "pygments_lexer": "ipython3",
   "version": "3.10.4"
  },
  "orig_nbformat": 4
 },
 "nbformat": 4,
 "nbformat_minor": 2
}
